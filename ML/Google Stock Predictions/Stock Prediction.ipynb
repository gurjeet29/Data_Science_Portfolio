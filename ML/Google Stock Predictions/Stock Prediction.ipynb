{
 "cells": [
  {
   "cell_type": "code",
   "execution_count": 1,
   "metadata": {},
   "outputs": [],
   "source": [
    "import pandas as pd\n",
    "import numpy as np\n",
    "import matplotlib.pyplot as plt\n",
    "%matplotlib inline"
   ]
  },
  {
   "cell_type": "code",
   "execution_count": 2,
   "metadata": {},
   "outputs": [],
   "source": [
    "df=pd.read_csv('GOOG.csv')"
   ]
  },
  {
   "cell_type": "code",
   "execution_count": 3,
   "metadata": {},
   "outputs": [
    {
     "data": {
      "text/html": [
       "<div>\n",
       "<style scoped>\n",
       "    .dataframe tbody tr th:only-of-type {\n",
       "        vertical-align: middle;\n",
       "    }\n",
       "\n",
       "    .dataframe tbody tr th {\n",
       "        vertical-align: top;\n",
       "    }\n",
       "\n",
       "    .dataframe thead th {\n",
       "        text-align: right;\n",
       "    }\n",
       "</style>\n",
       "<table border=\"1\" class=\"dataframe\">\n",
       "  <thead>\n",
       "    <tr style=\"text-align: right;\">\n",
       "      <th></th>\n",
       "      <th>Date</th>\n",
       "      <th>Open</th>\n",
       "      <th>High</th>\n",
       "      <th>Low</th>\n",
       "      <th>Close</th>\n",
       "      <th>Adj Close</th>\n",
       "      <th>Volume</th>\n",
       "    </tr>\n",
       "  </thead>\n",
       "  <tbody>\n",
       "    <tr>\n",
       "      <th>0</th>\n",
       "      <td>2004-08-19</td>\n",
       "      <td>49.813290</td>\n",
       "      <td>51.835709</td>\n",
       "      <td>47.800831</td>\n",
       "      <td>49.982655</td>\n",
       "      <td>49.982655</td>\n",
       "      <td>44871361</td>\n",
       "    </tr>\n",
       "    <tr>\n",
       "      <th>1</th>\n",
       "      <td>2004-08-20</td>\n",
       "      <td>50.316402</td>\n",
       "      <td>54.336334</td>\n",
       "      <td>50.062355</td>\n",
       "      <td>53.952770</td>\n",
       "      <td>53.952770</td>\n",
       "      <td>22942874</td>\n",
       "    </tr>\n",
       "    <tr>\n",
       "      <th>2</th>\n",
       "      <td>2004-08-23</td>\n",
       "      <td>55.168217</td>\n",
       "      <td>56.528118</td>\n",
       "      <td>54.321388</td>\n",
       "      <td>54.495735</td>\n",
       "      <td>54.495735</td>\n",
       "      <td>18342897</td>\n",
       "    </tr>\n",
       "    <tr>\n",
       "      <th>3</th>\n",
       "      <td>2004-08-24</td>\n",
       "      <td>55.412300</td>\n",
       "      <td>55.591629</td>\n",
       "      <td>51.591621</td>\n",
       "      <td>52.239197</td>\n",
       "      <td>52.239197</td>\n",
       "      <td>15319808</td>\n",
       "    </tr>\n",
       "    <tr>\n",
       "      <th>4</th>\n",
       "      <td>2004-08-25</td>\n",
       "      <td>52.284027</td>\n",
       "      <td>53.798351</td>\n",
       "      <td>51.746044</td>\n",
       "      <td>52.802086</td>\n",
       "      <td>52.802086</td>\n",
       "      <td>9232276</td>\n",
       "    </tr>\n",
       "  </tbody>\n",
       "</table>\n",
       "</div>"
      ],
      "text/plain": [
       "         Date       Open       High        Low      Close  Adj Close    Volume\n",
       "0  2004-08-19  49.813290  51.835709  47.800831  49.982655  49.982655  44871361\n",
       "1  2004-08-20  50.316402  54.336334  50.062355  53.952770  53.952770  22942874\n",
       "2  2004-08-23  55.168217  56.528118  54.321388  54.495735  54.495735  18342897\n",
       "3  2004-08-24  55.412300  55.591629  51.591621  52.239197  52.239197  15319808\n",
       "4  2004-08-25  52.284027  53.798351  51.746044  52.802086  52.802086   9232276"
      ]
     },
     "execution_count": 3,
     "metadata": {},
     "output_type": "execute_result"
    }
   ],
   "source": [
    "df.head()"
   ]
  },
  {
   "cell_type": "code",
   "execution_count": 4,
   "metadata": {},
   "outputs": [
    {
     "data": {
      "text/plain": [
       "<matplotlib.axes._subplots.AxesSubplot at 0x22e16d74e50>"
      ]
     },
     "execution_count": 4,
     "metadata": {},
     "output_type": "execute_result"
    },
    {
     "data": {
      "image/png": "[encoded data removed]",
      "text/plain": [
       "<Figure size 864x288 with 1 Axes>"
      ]
     },
     "metadata": {
      "needs_background": "light"
     },
     "output_type": "display_data"
    }
   ],
   "source": [
    "df['Open'].plot(figsize=(12,4))"
   ]
  },
  {
   "cell_type": "code",
   "execution_count": 5,
   "metadata": {},
   "outputs": [
    {
     "data": {
      "text/plain": [
       "Date         0\n",
       "Open         0\n",
       "High         0\n",
       "Low          0\n",
       "Close        0\n",
       "Adj Close    0\n",
       "Volume       0\n",
       "dtype: int64"
      ]
     },
     "execution_count": 5,
     "metadata": {},
     "output_type": "execute_result"
    }
   ],
   "source": [
    "df.isnull().sum()"
   ]
  },
  {
   "cell_type": "code",
   "execution_count": 6,
   "metadata": {},
   "outputs": [
    {
     "name": "stdout",
     "output_type": "stream",
     "text": [
      "<class 'pandas.core.frame.DataFrame'>\n",
      "RangeIndex: 4369 entries, 0 to 4368\n",
      "Data columns (total 7 columns):\n",
      " #   Column     Non-Null Count  Dtype  \n",
      "---  ------     --------------  -----  \n",
      " 0   Date       4369 non-null   object \n",
      " 1   Open       4369 non-null   float64\n",
      " 2   High       4369 non-null   float64\n",
      " 3   Low        4369 non-null   float64\n",
      " 4   Close      4369 non-null   float64\n",
      " 5   Adj Close  4369 non-null   float64\n",
      " 6   Volume     4369 non-null   int64  \n",
      "dtypes: float64(5), int64(1), object(1)\n",
      "memory usage: 239.1+ KB\n"
     ]
    }
   ],
   "source": [
    "df.info()"
   ]
  },
  {
   "cell_type": "code",
   "execution_count": 7,
   "metadata": {},
   "outputs": [],
   "source": [
    "df['Date']=pd.to_datetime(df['Date'])"
   ]
  },
  {
   "cell_type": "code",
   "execution_count": 9,
   "metadata": {},
   "outputs": [],
   "source": [
    "df.set_index('Date',inplace=True)"
   ]
  },
  {
   "cell_type": "code",
   "execution_count": 10,
   "metadata": {},
   "outputs": [
    {
     "data": {
      "text/plain": [
       "<matplotlib.axes._subplots.AxesSubplot at 0x22e18ea2160>"
      ]
     },
     "execution_count": 10,
     "metadata": {},
     "output_type": "execute_result"
    },
    {
     "data": {
      "image/png": "[encoded data removed]",
      "text/plain": [
       "<Figure size 432x288 with 1 Axes>"
      ]
     },
     "metadata": {
      "needs_background": "light"
     },
     "output_type": "display_data"
    }
   ],
   "source": [
    "df.plot()"
   ]
  },
  {
   "cell_type": "code",
   "execution_count": 49,
   "metadata": {},
   "outputs": [],
   "source": [
    "df1=df.reset_index()['Open']"
   ]
  },
  {
   "cell_type": "code",
   "execution_count": 50,
   "metadata": {},
   "outputs": [
    {
     "data": {
      "text/plain": [
       "0         49.813290\n",
       "1         50.316402\n",
       "2         55.168217\n",
       "3         55.412300\n",
       "4         52.284027\n",
       "           ...     \n",
       "4364    2854.290039\n",
       "4365    2813.592041\n",
       "4366    2863.000000\n",
       "4367    2882.000000\n",
       "4368    2941.790039\n",
       "Name: Open, Length: 4369, dtype: float64"
      ]
     },
     "execution_count": 50,
     "metadata": {},
     "output_type": "execute_result"
    }
   ],
   "source": [
    "df1"
   ]
  },
  {
   "cell_type": "code",
   "execution_count": 51,
   "metadata": {},
   "outputs": [
    {
     "data": {
      "text/plain": [
       "[<matplotlib.lines.Line2D at 0x216c7d07a00>]"
      ]
     },
     "execution_count": 51,
     "metadata": {},
     "output_type": "execute_result"
    },
    {
     "data": {
      "image/png": "[encoded data removed]",
      "text/plain": [
       "<Figure size 432x288 with 1 Axes>"
      ]
     },
     "metadata": {
      "needs_background": "light"
     },
     "output_type": "display_data"
    }
   ],
   "source": [
    "plt.plot(df1)"
   ]
  },
  {
   "cell_type": "code",
   "execution_count": 52,
   "metadata": {},
   "outputs": [],
   "source": [
    "from sklearn.preprocessing import MinMaxScaler\n",
    "scaler=MinMaxScaler(feature_range=(0,1))\n",
    "df1=scaler.fit_transform(np.array(df1).reshape(-1,1))"
   ]
  },
  {
   "cell_type": "code",
   "execution_count": 53,
   "metadata": {},
   "outputs": [
    {
     "name": "stdout",
     "output_type": "stream",
     "text": [
      "[[1.35827890e-04]\n",
      " [3.05192214e-04]\n",
      " [1.93847539e-03]\n",
      " ...\n",
      " [9.47148550e-01]\n",
      " [9.53544585e-01]\n",
      " [9.73671912e-01]]\n"
     ]
    }
   ],
   "source": [
    "print(df1)"
   ]
  },
  {
   "cell_type": "code",
   "execution_count": 54,
   "metadata": {},
   "outputs": [],
   "source": [
    "##splitting dataset into train and test split\n",
    "training_size=int(len(df1)*0.60)\n",
    "test_size=len(df1)-training_size\n",
    "train_data,test_data=df1[0:training_size,:],df1[training_size:len(df1),:1]"
   ]
  },
  {
   "cell_type": "code",
   "execution_count": 55,
   "metadata": {},
   "outputs": [
    {
     "data": {
      "text/plain": [
       "(2621, 1748)"
      ]
     },
     "execution_count": 55,
     "metadata": {},
     "output_type": "execute_result"
    }
   ],
   "source": [
    "training_size,test_size"
   ]
  },
  {
   "cell_type": "code",
   "execution_count": 56,
   "metadata": {},
   "outputs": [],
   "source": [
    "# convert an array of values into a dataset matrix\n",
    "def create_dataset(dataset, time_step=1):\n",
    "\tdataX, dataY = [], []\n",
    "\tfor i in range(len(dataset)-time_step-1):\n",
    "\t\ta = dataset[i:(i+time_step), 0]   ###i=0, 0,1,2,3-----99   100 \n",
    "\t\tdataX.append(a)\n",
    "\t\tdataY.append(dataset[i + time_step, 0])\n",
    "\treturn np.array(dataX), np.array(dataY)"
   ]
  },
  {
   "cell_type": "code",
   "execution_count": 57,
   "metadata": {},
   "outputs": [],
   "source": [
    "# reshape into X=t,t+1,t+2,t+3 and Y=t+4\n",
    "time_step = 100\n",
    "X_train, y_train = create_dataset(train_data, time_step)\n",
    "X_test, ytest = create_dataset(test_data, time_step)"
   ]
  },
  {
   "cell_type": "code",
   "execution_count": 58,
   "metadata": {},
   "outputs": [
    {
     "name": "stdout",
     "output_type": "stream",
     "text": [
      "(2520, 100)\n",
      "(2520,)\n"
     ]
    },
    {
     "data": {
      "text/plain": [
       "(None, None)"
      ]
     },
     "execution_count": 58,
     "metadata": {},
     "output_type": "execute_result"
    }
   ],
   "source": [
    "print(X_train.shape), print(y_train.shape)"
   ]
  },
  {
   "cell_type": "code",
   "execution_count": 59,
   "metadata": {},
   "outputs": [
    {
     "name": "stdout",
     "output_type": "stream",
     "text": [
      "(1647, 100)\n",
      "(1647,)\n"
     ]
    },
    {
     "data": {
      "text/plain": [
       "(None, None)"
      ]
     },
     "execution_count": 59,
     "metadata": {},
     "output_type": "execute_result"
    }
   ],
   "source": [
    "print(X_test.shape), print(ytest.shape)"
   ]
  },
  {
   "cell_type": "code",
   "execution_count": 60,
   "metadata": {},
   "outputs": [],
   "source": [
    "# reshape input to be [samples, time steps, features] which is required for LSTM\n",
    "X_train =X_train.reshape(X_train.shape[0],X_train.shape[1] , 1)\n",
    "X_test = X_test.reshape(X_test.shape[0],X_test.shape[1] , 1)"
   ]
  },
  {
   "cell_type": "code",
   "execution_count": 61,
   "metadata": {},
   "outputs": [],
   "source": [
    "### Create the Stacked LSTM model\n",
    "from tensorflow.keras.models import Sequential\n",
    "from tensorflow.keras.layers import Dense\n",
    "from tensorflow.keras.layers import LSTM"
   ]
  },
  {
   "cell_type": "code",
   "execution_count": 62,
   "metadata": {},
   "outputs": [],
   "source": [
    "model=Sequential()\n",
    "model.add(LSTM(50,return_sequences=True,input_shape=(100,1)))\n",
    "model.add(LSTM(50,return_sequences=True))\n",
    "model.add(LSTM(50))\n",
    "model.add(Dense(1))\n",
    "model.compile(loss='mean_squared_error',optimizer='adam')"
   ]
  },
  {
   "cell_type": "code",
   "execution_count": 63,
   "metadata": {},
   "outputs": [
    {
     "name": "stdout",
     "output_type": "stream",
     "text": [
      "Model: \"sequential_1\"\n",
      "_________________________________________________________________\n",
      " Layer (type)                Output Shape              Param #   \n",
      "=================================================================\n",
      " lstm_3 (LSTM)               (None, 100, 50)           10400     \n",
      "                                                                 \n",
      " lstm_4 (LSTM)               (None, 100, 50)           20200     \n",
      "                                                                 \n",
      " lstm_5 (LSTM)               (None, 50)                20200     \n",
      "                                                                 \n",
      " dense_1 (Dense)             (None, 1)                 51        \n",
      "                                                                 \n",
      "=================================================================\n",
      "Total params: 50,851\n",
      "Trainable params: 50,851\n",
      "Non-trainable params: 0\n",
      "_________________________________________________________________\n"
     ]
    }
   ],
   "source": [
    "model.summary()"
   ]
  },
  {
   "cell_type": "code",
   "execution_count": 64,
   "metadata": {},
   "outputs": [
    {
     "name": "stdout",
     "output_type": "stream",
     "text": [
      "Epoch 1/100\n",
      "40/40 [==============================] - 43s 422ms/step - loss: 0.0011 - val_loss: 0.0013\n",
      "Epoch 2/100\n",
      "40/40 [==============================] - 16s 391ms/step - loss: 3.9533e-05 - val_loss: 6.8403e-04\n",
      "Epoch 3/100\n",
      "40/40 [==============================] - 13s 334ms/step - loss: 3.0658e-05 - val_loss: 6.4592e-04\n",
      "Epoch 4/100\n",
      "40/40 [==============================] - 13s 330ms/step - loss: 2.9338e-05 - val_loss: 8.0893e-04\n",
      "Epoch 5/100\n",
      "40/40 [==============================] - 13s 331ms/step - loss: 2.9985e-05 - val_loss: 8.2148e-04\n",
      "Epoch 6/100\n",
      "40/40 [==============================] - 14s 357ms/step - loss: 3.0250e-05 - val_loss: 7.1534e-04\n",
      "Epoch 7/100\n",
      "40/40 [==============================] - 14s 350ms/step - loss: 2.7728e-05 - val_loss: 4.9028e-04\n",
      "Epoch 8/100\n",
      "40/40 [==============================] - 13s 334ms/step - loss: 2.6580e-05 - val_loss: 4.7788e-04\n",
      "Epoch 9/100\n",
      "40/40 [==============================] - 13s 331ms/step - loss: 2.5815e-05 - val_loss: 4.3791e-04\n",
      "Epoch 10/100\n",
      "40/40 [==============================] - 13s 331ms/step - loss: 2.5615e-05 - val_loss: 4.6522e-04\n",
      "Epoch 11/100\n",
      "40/40 [==============================] - 15s 389ms/step - loss: 2.4236e-05 - val_loss: 4.9730e-04\n",
      "Epoch 12/100\n",
      "40/40 [==============================] - 13s 333ms/step - loss: 2.1918e-05 - val_loss: 4.3692e-04\n",
      "Epoch 13/100\n",
      "40/40 [==============================] - 13s 332ms/step - loss: 2.4355e-05 - val_loss: 5.1724e-04\n",
      "Epoch 14/100\n",
      "40/40 [==============================] - 13s 332ms/step - loss: 2.2946e-05 - val_loss: 4.3152e-04\n",
      "Epoch 15/100\n",
      "40/40 [==============================] - 15s 372ms/step - loss: 2.0837e-05 - val_loss: 9.5494e-04\n",
      "Epoch 16/100\n",
      "40/40 [==============================] - 14s 350ms/step - loss: 2.2521e-05 - val_loss: 5.4762e-04\n",
      "Epoch 17/100\n",
      "40/40 [==============================] - 13s 329ms/step - loss: 2.0587e-05 - val_loss: 4.3093e-04\n",
      "Epoch 18/100\n",
      "40/40 [==============================] - 13s 327ms/step - loss: 1.8091e-05 - val_loss: 3.0444e-04\n",
      "Epoch 19/100\n",
      "40/40 [==============================] - 14s 342ms/step - loss: 2.0756e-05 - val_loss: 2.7377e-04\n",
      "Epoch 20/100\n",
      "40/40 [==============================] - 16s 409ms/step - loss: 2.0133e-05 - val_loss: 2.6745e-04\n",
      "Epoch 21/100\n",
      "40/40 [==============================] - 13s 332ms/step - loss: 1.8386e-05 - val_loss: 6.8988e-04\n",
      "Epoch 22/100\n",
      "40/40 [==============================] - 13s 332ms/step - loss: 1.6898e-05 - val_loss: 3.3267e-04\n",
      "Epoch 23/100\n",
      "40/40 [==============================] - 13s 333ms/step - loss: 1.8341e-05 - val_loss: 5.1035e-04\n",
      "Epoch 24/100\n",
      "40/40 [==============================] - 15s 386ms/step - loss: 1.6692e-05 - val_loss: 4.6751e-04\n",
      "Epoch 25/100\n",
      "40/40 [==============================] - 13s 329ms/step - loss: 1.8594e-05 - val_loss: 2.6806e-04\n",
      "Epoch 26/100\n",
      "40/40 [==============================] - 13s 331ms/step - loss: 1.9722e-05 - val_loss: 6.3797e-04\n",
      "Epoch 27/100\n",
      "40/40 [==============================] - 13s 333ms/step - loss: 1.6763e-05 - val_loss: 2.5241e-04\n",
      "Epoch 28/100\n",
      "40/40 [==============================] - 15s 370ms/step - loss: 1.6965e-05 - val_loss: 3.7002e-04\n",
      "Epoch 29/100\n",
      "40/40 [==============================] - 14s 334ms/step - loss: 1.4457e-05 - val_loss: 2.2034e-04\n",
      "Epoch 30/100\n",
      "40/40 [==============================] - 13s 332ms/step - loss: 1.4730e-05 - val_loss: 2.3109e-04\n",
      "Epoch 31/100\n",
      "40/40 [==============================] - 13s 333ms/step - loss: 1.4405e-05 - val_loss: 2.1419e-04\n",
      "Epoch 32/100\n",
      "40/40 [==============================] - 13s 332ms/step - loss: 1.8976e-05 - val_loss: 1.9943e-04\n",
      "Epoch 33/100\n",
      "40/40 [==============================] - 15s 384ms/step - loss: 1.6283e-05 - val_loss: 2.7532e-04\n",
      "Epoch 34/100\n",
      "40/40 [==============================] - 13s 333ms/step - loss: 1.3884e-05 - val_loss: 3.2462e-04\n",
      "Epoch 35/100\n",
      "40/40 [==============================] - 13s 332ms/step - loss: 1.5656e-05 - val_loss: 3.3246e-04\n",
      "Epoch 36/100\n",
      "40/40 [==============================] - 13s 332ms/step - loss: 1.4529e-05 - val_loss: 4.4287e-04\n",
      "Epoch 37/100\n",
      "40/40 [==============================] - 16s 395ms/step - loss: 1.3960e-05 - val_loss: 4.2009e-04\n",
      "Epoch 38/100\n",
      "40/40 [==============================] - 14s 341ms/step - loss: 1.4357e-05 - val_loss: 2.4202e-04\n",
      "Epoch 39/100\n",
      "40/40 [==============================] - 14s 349ms/step - loss: 1.3150e-05 - val_loss: 3.3248e-04\n",
      "Epoch 40/100\n",
      "40/40 [==============================] - 13s 328ms/step - loss: 1.2311e-05 - val_loss: 2.5654e-04\n",
      "Epoch 41/100\n",
      "40/40 [==============================] - 15s 375ms/step - loss: 1.2602e-05 - val_loss: 2.7057e-04\n",
      "Epoch 42/100\n",
      "40/40 [==============================] - 13s 332ms/step - loss: 1.2536e-05 - val_loss: 4.0685e-04\n",
      "Epoch 43/100\n",
      "40/40 [==============================] - 13s 333ms/step - loss: 1.2548e-05 - val_loss: 2.0238e-04\n",
      "Epoch 44/100\n",
      "40/40 [==============================] - 13s 332ms/step - loss: 1.2750e-05 - val_loss: 1.8788e-04\n",
      "Epoch 45/100\n",
      "40/40 [==============================] - 13s 333ms/step - loss: 1.3086e-05 - val_loss: 1.7998e-04\n",
      "Epoch 46/100\n",
      "40/40 [==============================] - 15s 383ms/step - loss: 1.2809e-05 - val_loss: 2.3613e-04\n",
      "Epoch 47/100\n",
      "40/40 [==============================] - 13s 328ms/step - loss: 1.2614e-05 - val_loss: 1.7624e-04\n",
      "Epoch 48/100\n",
      "40/40 [==============================] - 13s 332ms/step - loss: 1.1601e-05 - val_loss: 3.1025e-04\n",
      "Epoch 49/100\n",
      "40/40 [==============================] - 13s 331ms/step - loss: 1.2362e-05 - val_loss: 2.6384e-04\n",
      "Epoch 50/100\n",
      "40/40 [==============================] - 15s 387ms/step - loss: 1.2603e-05 - val_loss: 1.6843e-04\n",
      "Epoch 51/100\n",
      "40/40 [==============================] - 13s 333ms/step - loss: 1.2057e-05 - val_loss: 1.6351e-04\n",
      "Epoch 52/100\n",
      "40/40 [==============================] - 13s 332ms/step - loss: 1.0928e-05 - val_loss: 2.2848e-04\n",
      "Epoch 53/100\n",
      "40/40 [==============================] - 13s 328ms/step - loss: 1.0354e-05 - val_loss: 1.6456e-04\n",
      "Epoch 54/100\n",
      "40/40 [==============================] - 14s 354ms/step - loss: 1.1573e-05 - val_loss: 1.6991e-04\n",
      "Epoch 55/100\n",
      "40/40 [==============================] - 14s 346ms/step - loss: 1.2059e-05 - val_loss: 1.7226e-04\n",
      "Epoch 56/100\n",
      "40/40 [==============================] - 13s 336ms/step - loss: 1.0089e-05 - val_loss: 2.0036e-04\n",
      "Epoch 57/100\n",
      "40/40 [==============================] - 13s 336ms/step - loss: 1.1034e-05 - val_loss: 1.6166e-04\n",
      "Epoch 58/100\n",
      "40/40 [==============================] - 13s 331ms/step - loss: 1.2332e-05 - val_loss: 1.7244e-04\n",
      "Epoch 59/100\n",
      "40/40 [==============================] - 15s 388ms/step - loss: 1.0369e-05 - val_loss: 2.6182e-04\n",
      "Epoch 60/100\n",
      "40/40 [==============================] - 13s 328ms/step - loss: 1.4031e-05 - val_loss: 1.7900e-04\n",
      "Epoch 61/100\n",
      "40/40 [==============================] - 13s 329ms/step - loss: 9.8953e-06 - val_loss: 1.4347e-04\n",
      "Epoch 62/100\n",
      "40/40 [==============================] - 13s 332ms/step - loss: 9.8623e-06 - val_loss: 2.1271e-04\n",
      "Epoch 63/100\n",
      "40/40 [==============================] - 15s 372ms/step - loss: 1.1610e-05 - val_loss: 2.5246e-04\n",
      "Epoch 64/100\n",
      "40/40 [==============================] - 13s 330ms/step - loss: 1.1054e-05 - val_loss: 2.8000e-04\n",
      "Epoch 65/100\n",
      "40/40 [==============================] - 13s 332ms/step - loss: 1.1461e-05 - val_loss: 2.5963e-04\n",
      "Epoch 66/100\n",
      "40/40 [==============================] - 13s 328ms/step - loss: 1.0271e-05 - val_loss: 2.4467e-04\n",
      "Epoch 67/100\n",
      "40/40 [==============================] - 13s 327ms/step - loss: 9.0881e-06 - val_loss: 1.5030e-04\n",
      "Epoch 68/100\n",
      "40/40 [==============================] - 15s 384ms/step - loss: 9.7943e-06 - val_loss: 1.5407e-04\n",
      "Epoch 69/100\n",
      "40/40 [==============================] - 13s 335ms/step - loss: 9.3951e-06 - val_loss: 2.0902e-04\n",
      "Epoch 70/100\n",
      "40/40 [==============================] - 13s 331ms/step - loss: 8.6392e-06 - val_loss: 2.1238e-04\n",
      "Epoch 71/100\n",
      "40/40 [==============================] - 13s 331ms/step - loss: 8.5516e-06 - val_loss: 2.5367e-04\n",
      "Epoch 72/100\n",
      "40/40 [==============================] - 15s 386ms/step - loss: 9.6584e-06 - val_loss: 1.3983e-04\n",
      "Epoch 73/100\n",
      "40/40 [==============================] - 13s 333ms/step - loss: 8.4278e-06 - val_loss: 1.5887e-04\n",
      "Epoch 74/100\n",
      "40/40 [==============================] - 13s 326ms/step - loss: 1.0116e-05 - val_loss: 1.5440e-04\n"
     ]
    },
    {
     "name": "stdout",
     "output_type": "stream",
     "text": [
      "Epoch 75/100\n",
      "40/40 [==============================] - 13s 331ms/step - loss: 9.5843e-06 - val_loss: 2.2765e-04\n",
      "Epoch 76/100\n",
      "40/40 [==============================] - 14s 351ms/step - loss: 8.8296e-06 - val_loss: 1.4051e-04\n",
      "Epoch 77/100\n",
      "40/40 [==============================] - 14s 354ms/step - loss: 8.5382e-06 - val_loss: 1.2741e-04\n",
      "Epoch 78/100\n",
      "40/40 [==============================] - 13s 333ms/step - loss: 9.4509e-06 - val_loss: 2.3275e-04\n",
      "Epoch 79/100\n",
      "40/40 [==============================] - 13s 331ms/step - loss: 8.0436e-06 - val_loss: 2.7438e-04\n",
      "Epoch 80/100\n",
      "40/40 [==============================] - 13s 324ms/step - loss: 1.1440e-05 - val_loss: 1.4617e-04\n",
      "Epoch 81/100\n",
      "40/40 [==============================] - 15s 387ms/step - loss: 1.0409e-05 - val_loss: 1.6109e-04\n",
      "Epoch 82/100\n",
      "40/40 [==============================] - 14s 346ms/step - loss: 7.5823e-06 - val_loss: 1.6677e-04\n",
      "Epoch 83/100\n",
      "40/40 [==============================] - 13s 331ms/step - loss: 8.0771e-06 - val_loss: 1.6059e-04\n",
      "Epoch 84/100\n",
      "40/40 [==============================] - 13s 331ms/step - loss: 8.8351e-06 - val_loss: 2.0350e-04\n",
      "Epoch 85/100\n",
      "40/40 [==============================] - 15s 381ms/step - loss: 7.5789e-06 - val_loss: 1.9531e-04\n",
      "Epoch 86/100\n",
      "40/40 [==============================] - 13s 335ms/step - loss: 7.6235e-06 - val_loss: 4.3688e-04\n",
      "Epoch 87/100\n",
      "40/40 [==============================] - 13s 328ms/step - loss: 7.5484e-06 - val_loss: 1.4183e-04\n",
      "Epoch 88/100\n",
      "40/40 [==============================] - 14s 345ms/step - loss: 6.8865e-06 - val_loss: 1.2083e-04\n",
      "Epoch 89/100\n",
      "40/40 [==============================] - 15s 365ms/step - loss: 7.0140e-06 - val_loss: 1.7522e-04\n",
      "Epoch 90/100\n",
      "40/40 [==============================] - 15s 359ms/step - loss: 8.3328e-06 - val_loss: 5.2748e-04\n",
      "Epoch 91/100\n",
      "40/40 [==============================] - 14s 348ms/step - loss: 7.6164e-06 - val_loss: 1.5897e-04\n",
      "Epoch 92/100\n",
      "40/40 [==============================] - 15s 374ms/step - loss: 7.2784e-06 - val_loss: 2.6260e-04\n",
      "Epoch 93/100\n",
      "40/40 [==============================] - 13s 337ms/step - loss: 7.5222e-06 - val_loss: 1.1663e-04\n",
      "Epoch 94/100\n",
      "40/40 [==============================] - 16s 402ms/step - loss: 7.1454e-06 - val_loss: 2.4489e-04\n",
      "Epoch 95/100\n",
      "40/40 [==============================] - 14s 359ms/step - loss: 6.5290e-06 - val_loss: 3.2203e-04\n",
      "Epoch 96/100\n",
      "40/40 [==============================] - 14s 347ms/step - loss: 6.3596e-06 - val_loss: 1.4104e-04\n",
      "Epoch 97/100\n",
      "40/40 [==============================] - 14s 355ms/step - loss: 6.1529e-06 - val_loss: 1.1151e-04\n",
      "Epoch 98/100\n",
      "40/40 [==============================] - 17s 430ms/step - loss: 7.0119e-06 - val_loss: 1.0283e-04\n",
      "Epoch 99/100\n",
      "40/40 [==============================] - 14s 346ms/step - loss: 6.0174e-06 - val_loss: 1.4280e-04\n",
      "Epoch 100/100\n",
      "40/40 [==============================] - 14s 349ms/step - loss: 6.6170e-06 - val_loss: 1.0191e-04\n"
     ]
    },
    {
     "data": {
      "text/plain": [
       "<keras.callbacks.History at 0x216b7a12d00>"
      ]
     },
     "execution_count": 64,
     "metadata": {},
     "output_type": "execute_result"
    }
   ],
   "source": [
    "model.fit(X_train,y_train,validation_data=(X_test,ytest),epochs=100,batch_size=64,verbose=1)"
   ]
  },
  {
   "cell_type": "code",
   "execution_count": 65,
   "metadata": {},
   "outputs": [],
   "source": [
    "### Lets Do the prediction and check performance metrics\n",
    "train_predict=model.predict(X_train)\n",
    "test_predict=model.predict(X_test)"
   ]
  },
  {
   "cell_type": "code",
   "execution_count": 66,
   "metadata": {},
   "outputs": [],
   "source": [
    "##Transformback to original form\n",
    "train_predict=scaler.inverse_transform(train_predict)\n",
    "test_predict=scaler.inverse_transform(test_predict)"
   ]
  },
  {
   "cell_type": "code",
   "execution_count": 67,
   "metadata": {},
   "outputs": [
    {
     "data": {
      "text/plain": [
       "321.1125650224178"
      ]
     },
     "execution_count": 67,
     "metadata": {},
     "output_type": "execute_result"
    }
   ],
   "source": [
    "### Calculate RMSE performance metrics\n",
    "import math\n",
    "from sklearn.metrics import mean_squared_error\n",
    "math.sqrt(mean_squared_error(y_train,train_predict))"
   ]
  },
  {
   "cell_type": "code",
   "execution_count": 68,
   "metadata": {},
   "outputs": [
    {
     "data": {
      "text/plain": [
       "1398.8082501319384"
      ]
     },
     "execution_count": 68,
     "metadata": {},
     "output_type": "execute_result"
    }
   ],
   "source": [
    "### Test Data RMSE\n",
    "math.sqrt(mean_squared_error(ytest,test_predict))"
   ]
  },
  {
   "cell_type": "code",
   "execution_count": 69,
   "metadata": {},
   "outputs": [
    {
     "data": {
      "image/png": "[encoded data removed]",
      "text/plain": [
       "<Figure size 432x288 with 1 Axes>"
      ]
     },
     "metadata": {
      "needs_background": "light"
     },
     "output_type": "display_data"
    }
   ],
   "source": [
    "### Plotting \n",
    "# shift train predictions for plotting\n",
    "look_back=100\n",
    "trainPredictPlot = np.empty_like(df1)\n",
    "trainPredictPlot[:, :] = np.nan\n",
    "trainPredictPlot[look_back:len(train_predict)+look_back, :] = train_predict\n",
    "# shift test predictions for plotting\n",
    "testPredictPlot = np.empty_like(df1)\n",
    "testPredictPlot[:, :] = np.nan\n",
    "testPredictPlot[len(train_predict)+(look_back*2)+1:len(df1)-1, :] = test_predict\n",
    "# plot baseline and predictions\n",
    "plt.plot(scaler.inverse_transform(df1))\n",
    "plt.plot(trainPredictPlot)\n",
    "plt.plot(testPredictPlot)\n",
    "plt.show()"
   ]
  },
  {
   "cell_type": "code",
   "execution_count": 70,
   "metadata": {},
   "outputs": [
    {
     "data": {
      "text/plain": [
       "1748"
      ]
     },
     "execution_count": 70,
     "metadata": {},
     "output_type": "execute_result"
    }
   ],
   "source": [
    "len(test_data)"
   ]
  },
  {
   "cell_type": "code",
   "execution_count": 71,
   "metadata": {},
   "outputs": [
    {
     "data": {
      "text/plain": [
       "(1, 100)"
      ]
     },
     "execution_count": 71,
     "metadata": {},
     "output_type": "execute_result"
    }
   ],
   "source": [
    "x_input=test_data[1648:].reshape(1,-1)\n",
    "x_input.shape"
   ]
  },
  {
   "cell_type": "code",
   "execution_count": 72,
   "metadata": {},
   "outputs": [],
   "source": [
    "temp_input=list(x_input)\n",
    "temp_input=temp_input[0].tolist()"
   ]
  },
  {
   "cell_type": "code",
   "execution_count": 73,
   "metadata": {},
   "outputs": [
    {
     "name": "stdout",
     "output_type": "stream",
     "text": [
      "[0.9439805]\n",
      "101\n",
      "1 day input [0.89920187 0.90099607 0.90539926 0.91301058 0.91438062 0.91054303\n",
      " 0.9148822  0.91247531 0.91376127 0.90652028 0.89542485 0.90630142\n",
      " 0.91919787 0.93633256 0.9453509  0.94357018 0.94016341 0.95761451\n",
      " 0.96555901 0.96398022 0.96599665 0.95385426 0.95791745 0.96225333\n",
      " 0.9588196  0.96258997 0.94749192 0.95395527 0.95124872 0.96041861\n",
      " 0.95151468 0.91920929 0.92672839 0.92628065 0.93677685 0.93230972\n",
      " 0.93661528 0.91980382 0.90648124 0.88773275 0.88254526 0.8969868\n",
      " 0.88554463 0.88975592 0.9182856  0.92530781 0.92459411 0.92350005\n",
      " 0.91079214 0.92561749 0.94075251 0.93411074 0.94810125 0.95436932\n",
      " 0.94069868 0.92830382 0.91793212 0.93002068 0.92528422 0.97508239\n",
      " 0.96310494 0.9809129  0.95832074 0.96818814 0.97441586 0.98891468\n",
      " 0.99326733 0.99155721 0.97986766 0.97378968 0.9786675  0.99326733\n",
      " 0.98768255 0.98807647 0.98751761 1.         0.99422167 0.97383012\n",
      " 0.96869309 0.95970836 0.95488101 0.96263533 0.95430201 0.93822102\n",
      " 0.95620733 0.95000319 0.96600002 0.98203383 0.98098695 0.98720793\n",
      " 0.98279126 0.95805544 0.9553355  0.98032042 0.94421649 0.93051618\n",
      " 0.94714855 0.95354459 0.97367191 0.94398052]\n",
      "1 day output [[0.94669044]]\n",
      "2 day input [0.90099607 0.90539926 0.91301058 0.91438062 0.91054303 0.9148822\n",
      " 0.91247531 0.91376127 0.90652028 0.89542485 0.90630142 0.91919787\n",
      " 0.93633256 0.9453509  0.94357018 0.94016341 0.95761451 0.96555901\n",
      " 0.96398022 0.96599665 0.95385426 0.95791745 0.96225333 0.9588196\n",
      " 0.96258997 0.94749192 0.95395527 0.95124872 0.96041861 0.95151468\n",
      " 0.91920929 0.92672839 0.92628065 0.93677685 0.93230972 0.93661528\n",
      " 0.91980382 0.90648124 0.88773275 0.88254526 0.8969868  0.88554463\n",
      " 0.88975592 0.9182856  0.92530781 0.92459411 0.92350005 0.91079214\n",
      " 0.92561749 0.94075251 0.93411074 0.94810125 0.95436932 0.94069868\n",
      " 0.92830382 0.91793212 0.93002068 0.92528422 0.97508239 0.96310494\n",
      " 0.9809129  0.95832074 0.96818814 0.97441586 0.98891468 0.99326733\n",
      " 0.99155721 0.97986766 0.97378968 0.9786675  0.99326733 0.98768255\n",
      " 0.98807647 0.98751761 1.         0.99422167 0.97383012 0.96869309\n",
      " 0.95970836 0.95488101 0.96263533 0.95430201 0.93822102 0.95620733\n",
      " 0.95000319 0.96600002 0.98203383 0.98098695 0.98720793 0.98279126\n",
      " 0.95805544 0.9553355  0.98032042 0.94421649 0.93051618 0.94714855\n",
      " 0.95354459 0.97367191 0.94398052 0.94669044]\n",
      "2 day output [[0.94533]]\n",
      "3 day input [0.90539926 0.91301058 0.91438062 0.91054303 0.9148822  0.91247531\n",
      " 0.91376127 0.90652028 0.89542485 0.90630142 0.91919787 0.93633256\n",
      " 0.9453509  0.94357018 0.94016341 0.95761451 0.96555901 0.96398022\n",
      " 0.96599665 0.95385426 0.95791745 0.96225333 0.9588196  0.96258997\n",
      " 0.94749192 0.95395527 0.95124872 0.96041861 0.95151468 0.91920929\n",
      " 0.92672839 0.92628065 0.93677685 0.93230972 0.93661528 0.91980382\n",
      " 0.90648124 0.88773275 0.88254526 0.8969868  0.88554463 0.88975592\n",
      " 0.9182856  0.92530781 0.92459411 0.92350005 0.91079214 0.92561749\n",
      " 0.94075251 0.93411074 0.94810125 0.95436932 0.94069868 0.92830382\n",
      " 0.91793212 0.93002068 0.92528422 0.97508239 0.96310494 0.9809129\n",
      " 0.95832074 0.96818814 0.97441586 0.98891468 0.99326733 0.99155721\n",
      " 0.97986766 0.97378968 0.9786675  0.99326733 0.98768255 0.98807647\n",
      " 0.98751761 1.         0.99422167 0.97383012 0.96869309 0.95970836\n",
      " 0.95488101 0.96263533 0.95430201 0.93822102 0.95620733 0.95000319\n",
      " 0.96600002 0.98203383 0.98098695 0.98720793 0.98279126 0.95805544\n",
      " 0.9553355  0.98032042 0.94421649 0.93051618 0.94714855 0.95354459\n",
      " 0.97367191 0.94398052 0.94669044 0.94533002]\n",
      "3 day output [[0.94228816]]\n",
      "4 day input [0.91301058 0.91438062 0.91054303 0.9148822  0.91247531 0.91376127\n",
      " 0.90652028 0.89542485 0.90630142 0.91919787 0.93633256 0.9453509\n",
      " 0.94357018 0.94016341 0.95761451 0.96555901 0.96398022 0.96599665\n",
      " 0.95385426 0.95791745 0.96225333 0.9588196  0.96258997 0.94749192\n",
      " 0.95395527 0.95124872 0.96041861 0.95151468 0.91920929 0.92672839\n",
      " 0.92628065 0.93677685 0.93230972 0.93661528 0.91980382 0.90648124\n",
      " 0.88773275 0.88254526 0.8969868  0.88554463 0.88975592 0.9182856\n",
      " 0.92530781 0.92459411 0.92350005 0.91079214 0.92561749 0.94075251\n",
      " 0.93411074 0.94810125 0.95436932 0.94069868 0.92830382 0.91793212\n",
      " 0.93002068 0.92528422 0.97508239 0.96310494 0.9809129  0.95832074\n",
      " 0.96818814 0.97441586 0.98891468 0.99326733 0.99155721 0.97986766\n",
      " 0.97378968 0.9786675  0.99326733 0.98768255 0.98807647 0.98751761\n",
      " 1.         0.99422167 0.97383012 0.96869309 0.95970836 0.95488101\n",
      " 0.96263533 0.95430201 0.93822102 0.95620733 0.95000319 0.96600002\n",
      " 0.98203383 0.98098695 0.98720793 0.98279126 0.95805544 0.9553355\n",
      " 0.98032042 0.94421649 0.93051618 0.94714855 0.95354459 0.97367191\n",
      " 0.94398052 0.94669044 0.94533002 0.94228816]\n",
      "4 day output [[0.93868345]]\n",
      "5 day input [0.91438062 0.91054303 0.9148822  0.91247531 0.91376127 0.90652028\n",
      " 0.89542485 0.90630142 0.91919787 0.93633256 0.9453509  0.94357018\n",
      " 0.94016341 0.95761451 0.96555901 0.96398022 0.96599665 0.95385426\n",
      " 0.95791745 0.96225333 0.9588196  0.96258997 0.94749192 0.95395527\n",
      " 0.95124872 0.96041861 0.95151468 0.91920929 0.92672839 0.92628065\n",
      " 0.93677685 0.93230972 0.93661528 0.91980382 0.90648124 0.88773275\n",
      " 0.88254526 0.8969868  0.88554463 0.88975592 0.9182856  0.92530781\n",
      " 0.92459411 0.92350005 0.91079214 0.92561749 0.94075251 0.93411074\n",
      " 0.94810125 0.95436932 0.94069868 0.92830382 0.91793212 0.93002068\n",
      " 0.92528422 0.97508239 0.96310494 0.9809129  0.95832074 0.96818814\n",
      " 0.97441586 0.98891468 0.99326733 0.99155721 0.97986766 0.97378968\n",
      " 0.9786675  0.99326733 0.98768255 0.98807647 0.98751761 1.\n",
      " 0.99422167 0.97383012 0.96869309 0.95970836 0.95488101 0.96263533\n",
      " 0.95430201 0.93822102 0.95620733 0.95000319 0.96600002 0.98203383\n",
      " 0.98098695 0.98720793 0.98279126 0.95805544 0.9553355  0.98032042\n",
      " 0.94421649 0.93051618 0.94714855 0.95354459 0.97367191 0.94398052\n",
      " 0.94669044 0.94533002 0.94228816 0.93868345]\n",
      "5 day output [[0.9349103]]\n",
      "6 day input [0.91054303 0.9148822  0.91247531 0.91376127 0.90652028 0.89542485\n",
      " 0.90630142 0.91919787 0.93633256 0.9453509  0.94357018 0.94016341\n",
      " 0.95761451 0.96555901 0.96398022 0.96599665 0.95385426 0.95791745\n",
      " 0.96225333 0.9588196  0.96258997 0.94749192 0.95395527 0.95124872\n",
      " 0.96041861 0.95151468 0.91920929 0.92672839 0.92628065 0.93677685\n",
      " 0.93230972 0.93661528 0.91980382 0.90648124 0.88773275 0.88254526\n",
      " 0.8969868  0.88554463 0.88975592 0.9182856  0.92530781 0.92459411\n",
      " 0.92350005 0.91079214 0.92561749 0.94075251 0.93411074 0.94810125\n",
      " 0.95436932 0.94069868 0.92830382 0.91793212 0.93002068 0.92528422\n",
      " 0.97508239 0.96310494 0.9809129  0.95832074 0.96818814 0.97441586\n",
      " 0.98891468 0.99326733 0.99155721 0.97986766 0.97378968 0.9786675\n",
      " 0.99326733 0.98768255 0.98807647 0.98751761 1.         0.99422167\n",
      " 0.97383012 0.96869309 0.95970836 0.95488101 0.96263533 0.95430201\n",
      " 0.93822102 0.95620733 0.95000319 0.96600002 0.98203383 0.98098695\n",
      " 0.98720793 0.98279126 0.95805544 0.9553355  0.98032042 0.94421649\n",
      " 0.93051618 0.94714855 0.95354459 0.97367191 0.94398052 0.94669044\n",
      " 0.94533002 0.94228816 0.93868345 0.9349103 ]\n",
      "6 day output [[0.93109965]]\n",
      "7 day input [0.9148822  0.91247531 0.91376127 0.90652028 0.89542485 0.90630142\n",
      " 0.91919787 0.93633256 0.9453509  0.94357018 0.94016341 0.95761451\n",
      " 0.96555901 0.96398022 0.96599665 0.95385426 0.95791745 0.96225333\n",
      " 0.9588196  0.96258997 0.94749192 0.95395527 0.95124872 0.96041861\n",
      " 0.95151468 0.91920929 0.92672839 0.92628065 0.93677685 0.93230972\n",
      " 0.93661528 0.91980382 0.90648124 0.88773275 0.88254526 0.8969868\n",
      " 0.88554463 0.88975592 0.9182856  0.92530781 0.92459411 0.92350005\n",
      " 0.91079214 0.92561749 0.94075251 0.93411074 0.94810125 0.95436932\n",
      " 0.94069868 0.92830382 0.91793212 0.93002068 0.92528422 0.97508239\n",
      " 0.96310494 0.9809129  0.95832074 0.96818814 0.97441586 0.98891468\n",
      " 0.99326733 0.99155721 0.97986766 0.97378968 0.9786675  0.99326733\n",
      " 0.98768255 0.98807647 0.98751761 1.         0.99422167 0.97383012\n",
      " 0.96869309 0.95970836 0.95488101 0.96263533 0.95430201 0.93822102\n",
      " 0.95620733 0.95000319 0.96600002 0.98203383 0.98098695 0.98720793\n",
      " 0.98279126 0.95805544 0.9553355  0.98032042 0.94421649 0.93051618\n",
      " 0.94714855 0.95354459 0.97367191 0.94398052 0.94669044 0.94533002\n",
      " 0.94228816 0.93868345 0.9349103  0.93109965]\n",
      "7 day output [[0.92731166]]\n",
      "8 day input [0.91247531 0.91376127 0.90652028 0.89542485 0.90630142 0.91919787\n",
      " 0.93633256 0.9453509  0.94357018 0.94016341 0.95761451 0.96555901\n",
      " 0.96398022 0.96599665 0.95385426 0.95791745 0.96225333 0.9588196\n",
      " 0.96258997 0.94749192 0.95395527 0.95124872 0.96041861 0.95151468\n",
      " 0.91920929 0.92672839 0.92628065 0.93677685 0.93230972 0.93661528\n",
      " 0.91980382 0.90648124 0.88773275 0.88254526 0.8969868  0.88554463\n",
      " 0.88975592 0.9182856  0.92530781 0.92459411 0.92350005 0.91079214\n",
      " 0.92561749 0.94075251 0.93411074 0.94810125 0.95436932 0.94069868\n",
      " 0.92830382 0.91793212 0.93002068 0.92528422 0.97508239 0.96310494\n",
      " 0.9809129  0.95832074 0.96818814 0.97441586 0.98891468 0.99326733\n",
      " 0.99155721 0.97986766 0.97378968 0.9786675  0.99326733 0.98768255\n",
      " 0.98807647 0.98751761 1.         0.99422167 0.97383012 0.96869309\n",
      " 0.95970836 0.95488101 0.96263533 0.95430201 0.93822102 0.95620733\n",
      " 0.95000319 0.96600002 0.98203383 0.98098695 0.98720793 0.98279126\n",
      " 0.95805544 0.9553355  0.98032042 0.94421649 0.93051618 0.94714855\n",
      " 0.95354459 0.97367191 0.94398052 0.94669044 0.94533002 0.94228816\n",
      " 0.93868345 0.9349103  0.93109965 0.92731166]\n"
     ]
    },
    {
     "name": "stdout",
     "output_type": "stream",
     "text": [
      "8 day output [[0.9235883]]\n",
      "9 day input [0.91376127 0.90652028 0.89542485 0.90630142 0.91919787 0.93633256\n",
      " 0.9453509  0.94357018 0.94016341 0.95761451 0.96555901 0.96398022\n",
      " 0.96599665 0.95385426 0.95791745 0.96225333 0.9588196  0.96258997\n",
      " 0.94749192 0.95395527 0.95124872 0.96041861 0.95151468 0.91920929\n",
      " 0.92672839 0.92628065 0.93677685 0.93230972 0.93661528 0.91980382\n",
      " 0.90648124 0.88773275 0.88254526 0.8969868  0.88554463 0.88975592\n",
      " 0.9182856  0.92530781 0.92459411 0.92350005 0.91079214 0.92561749\n",
      " 0.94075251 0.93411074 0.94810125 0.95436932 0.94069868 0.92830382\n",
      " 0.91793212 0.93002068 0.92528422 0.97508239 0.96310494 0.9809129\n",
      " 0.95832074 0.96818814 0.97441586 0.98891468 0.99326733 0.99155721\n",
      " 0.97986766 0.97378968 0.9786675  0.99326733 0.98768255 0.98807647\n",
      " 0.98751761 1.         0.99422167 0.97383012 0.96869309 0.95970836\n",
      " 0.95488101 0.96263533 0.95430201 0.93822102 0.95620733 0.95000319\n",
      " 0.96600002 0.98203383 0.98098695 0.98720793 0.98279126 0.95805544\n",
      " 0.9553355  0.98032042 0.94421649 0.93051618 0.94714855 0.95354459\n",
      " 0.97367191 0.94398052 0.94669044 0.94533002 0.94228816 0.93868345\n",
      " 0.9349103  0.93109965 0.92731166 0.92358828]\n",
      "9 day output [[0.9199593]]\n",
      "10 day input [0.90652028 0.89542485 0.90630142 0.91919787 0.93633256 0.9453509\n",
      " 0.94357018 0.94016341 0.95761451 0.96555901 0.96398022 0.96599665\n",
      " 0.95385426 0.95791745 0.96225333 0.9588196  0.96258997 0.94749192\n",
      " 0.95395527 0.95124872 0.96041861 0.95151468 0.91920929 0.92672839\n",
      " 0.92628065 0.93677685 0.93230972 0.93661528 0.91980382 0.90648124\n",
      " 0.88773275 0.88254526 0.8969868  0.88554463 0.88975592 0.9182856\n",
      " 0.92530781 0.92459411 0.92350005 0.91079214 0.92561749 0.94075251\n",
      " 0.93411074 0.94810125 0.95436932 0.94069868 0.92830382 0.91793212\n",
      " 0.93002068 0.92528422 0.97508239 0.96310494 0.9809129  0.95832074\n",
      " 0.96818814 0.97441586 0.98891468 0.99326733 0.99155721 0.97986766\n",
      " 0.97378968 0.9786675  0.99326733 0.98768255 0.98807647 0.98751761\n",
      " 1.         0.99422167 0.97383012 0.96869309 0.95970836 0.95488101\n",
      " 0.96263533 0.95430201 0.93822102 0.95620733 0.95000319 0.96600002\n",
      " 0.98203383 0.98098695 0.98720793 0.98279126 0.95805544 0.9553355\n",
      " 0.98032042 0.94421649 0.93051618 0.94714855 0.95354459 0.97367191\n",
      " 0.94398052 0.94669044 0.94533002 0.94228816 0.93868345 0.9349103\n",
      " 0.93109965 0.92731166 0.92358828 0.91995931]\n",
      "10 day output [[0.91644436]]\n",
      "11 day input [0.89542485 0.90630142 0.91919787 0.93633256 0.9453509  0.94357018\n",
      " 0.94016341 0.95761451 0.96555901 0.96398022 0.96599665 0.95385426\n",
      " 0.95791745 0.96225333 0.9588196  0.96258997 0.94749192 0.95395527\n",
      " 0.95124872 0.96041861 0.95151468 0.91920929 0.92672839 0.92628065\n",
      " 0.93677685 0.93230972 0.93661528 0.91980382 0.90648124 0.88773275\n",
      " 0.88254526 0.8969868  0.88554463 0.88975592 0.9182856  0.92530781\n",
      " 0.92459411 0.92350005 0.91079214 0.92561749 0.94075251 0.93411074\n",
      " 0.94810125 0.95436932 0.94069868 0.92830382 0.91793212 0.93002068\n",
      " 0.92528422 0.97508239 0.96310494 0.9809129  0.95832074 0.96818814\n",
      " 0.97441586 0.98891468 0.99326733 0.99155721 0.97986766 0.97378968\n",
      " 0.9786675  0.99326733 0.98768255 0.98807647 0.98751761 1.\n",
      " 0.99422167 0.97383012 0.96869309 0.95970836 0.95488101 0.96263533\n",
      " 0.95430201 0.93822102 0.95620733 0.95000319 0.96600002 0.98203383\n",
      " 0.98098695 0.98720793 0.98279126 0.95805544 0.9553355  0.98032042\n",
      " 0.94421649 0.93051618 0.94714855 0.95354459 0.97367191 0.94398052\n",
      " 0.94669044 0.94533002 0.94228816 0.93868345 0.9349103  0.93109965\n",
      " 0.92731166 0.92358828 0.91995931 0.91644436]\n",
      "11 day output [[0.91305125]]\n",
      "12 day input [0.90630142 0.91919787 0.93633256 0.9453509  0.94357018 0.94016341\n",
      " 0.95761451 0.96555901 0.96398022 0.96599665 0.95385426 0.95791745\n",
      " 0.96225333 0.9588196  0.96258997 0.94749192 0.95395527 0.95124872\n",
      " 0.96041861 0.95151468 0.91920929 0.92672839 0.92628065 0.93677685\n",
      " 0.93230972 0.93661528 0.91980382 0.90648124 0.88773275 0.88254526\n",
      " 0.8969868  0.88554463 0.88975592 0.9182856  0.92530781 0.92459411\n",
      " 0.92350005 0.91079214 0.92561749 0.94075251 0.93411074 0.94810125\n",
      " 0.95436932 0.94069868 0.92830382 0.91793212 0.93002068 0.92528422\n",
      " 0.97508239 0.96310494 0.9809129  0.95832074 0.96818814 0.97441586\n",
      " 0.98891468 0.99326733 0.99155721 0.97986766 0.97378968 0.9786675\n",
      " 0.99326733 0.98768255 0.98807647 0.98751761 1.         0.99422167\n",
      " 0.97383012 0.96869309 0.95970836 0.95488101 0.96263533 0.95430201\n",
      " 0.93822102 0.95620733 0.95000319 0.96600002 0.98203383 0.98098695\n",
      " 0.98720793 0.98279126 0.95805544 0.9553355  0.98032042 0.94421649\n",
      " 0.93051618 0.94714855 0.95354459 0.97367191 0.94398052 0.94669044\n",
      " 0.94533002 0.94228816 0.93868345 0.9349103  0.93109965 0.92731166\n",
      " 0.92358828 0.91995931 0.91644436 0.91305125]\n",
      "12 day output [[0.9097789]]\n",
      "13 day input [0.91919787 0.93633256 0.9453509  0.94357018 0.94016341 0.95761451\n",
      " 0.96555901 0.96398022 0.96599665 0.95385426 0.95791745 0.96225333\n",
      " 0.9588196  0.96258997 0.94749192 0.95395527 0.95124872 0.96041861\n",
      " 0.95151468 0.91920929 0.92672839 0.92628065 0.93677685 0.93230972\n",
      " 0.93661528 0.91980382 0.90648124 0.88773275 0.88254526 0.8969868\n",
      " 0.88554463 0.88975592 0.9182856  0.92530781 0.92459411 0.92350005\n",
      " 0.91079214 0.92561749 0.94075251 0.93411074 0.94810125 0.95436932\n",
      " 0.94069868 0.92830382 0.91793212 0.93002068 0.92528422 0.97508239\n",
      " 0.96310494 0.9809129  0.95832074 0.96818814 0.97441586 0.98891468\n",
      " 0.99326733 0.99155721 0.97986766 0.97378968 0.9786675  0.99326733\n",
      " 0.98768255 0.98807647 0.98751761 1.         0.99422167 0.97383012\n",
      " 0.96869309 0.95970836 0.95488101 0.96263533 0.95430201 0.93822102\n",
      " 0.95620733 0.95000319 0.96600002 0.98203383 0.98098695 0.98720793\n",
      " 0.98279126 0.95805544 0.9553355  0.98032042 0.94421649 0.93051618\n",
      " 0.94714855 0.95354459 0.97367191 0.94398052 0.94669044 0.94533002\n",
      " 0.94228816 0.93868345 0.9349103  0.93109965 0.92731166 0.92358828\n",
      " 0.91995931 0.91644436 0.91305125 0.90977889]\n",
      "13 day output [[0.9066203]]\n",
      "14 day input [0.93633256 0.9453509  0.94357018 0.94016341 0.95761451 0.96555901\n",
      " 0.96398022 0.96599665 0.95385426 0.95791745 0.96225333 0.9588196\n",
      " 0.96258997 0.94749192 0.95395527 0.95124872 0.96041861 0.95151468\n",
      " 0.91920929 0.92672839 0.92628065 0.93677685 0.93230972 0.93661528\n",
      " 0.91980382 0.90648124 0.88773275 0.88254526 0.8969868  0.88554463\n",
      " 0.88975592 0.9182856  0.92530781 0.92459411 0.92350005 0.91079214\n",
      " 0.92561749 0.94075251 0.93411074 0.94810125 0.95436932 0.94069868\n",
      " 0.92830382 0.91793212 0.93002068 0.92528422 0.97508239 0.96310494\n",
      " 0.9809129  0.95832074 0.96818814 0.97441586 0.98891468 0.99326733\n",
      " 0.99155721 0.97986766 0.97378968 0.9786675  0.99326733 0.98768255\n",
      " 0.98807647 0.98751761 1.         0.99422167 0.97383012 0.96869309\n",
      " 0.95970836 0.95488101 0.96263533 0.95430201 0.93822102 0.95620733\n",
      " 0.95000319 0.96600002 0.98203383 0.98098695 0.98720793 0.98279126\n",
      " 0.95805544 0.9553355  0.98032042 0.94421649 0.93051618 0.94714855\n",
      " 0.95354459 0.97367191 0.94398052 0.94669044 0.94533002 0.94228816\n",
      " 0.93868345 0.9349103  0.93109965 0.92731166 0.92358828 0.91995931\n",
      " 0.91644436 0.91305125 0.90977889 0.90662032]\n",
      "14 day output [[0.9035663]]\n",
      "15 day input [0.9453509  0.94357018 0.94016341 0.95761451 0.96555901 0.96398022\n",
      " 0.96599665 0.95385426 0.95791745 0.96225333 0.9588196  0.96258997\n",
      " 0.94749192 0.95395527 0.95124872 0.96041861 0.95151468 0.91920929\n",
      " 0.92672839 0.92628065 0.93677685 0.93230972 0.93661528 0.91980382\n",
      " 0.90648124 0.88773275 0.88254526 0.8969868  0.88554463 0.88975592\n",
      " 0.9182856  0.92530781 0.92459411 0.92350005 0.91079214 0.92561749\n",
      " 0.94075251 0.93411074 0.94810125 0.95436932 0.94069868 0.92830382\n",
      " 0.91793212 0.93002068 0.92528422 0.97508239 0.96310494 0.9809129\n",
      " 0.95832074 0.96818814 0.97441586 0.98891468 0.99326733 0.99155721\n",
      " 0.97986766 0.97378968 0.9786675  0.99326733 0.98768255 0.98807647\n",
      " 0.98751761 1.         0.99422167 0.97383012 0.96869309 0.95970836\n",
      " 0.95488101 0.96263533 0.95430201 0.93822102 0.95620733 0.95000319\n",
      " 0.96600002 0.98203383 0.98098695 0.98720793 0.98279126 0.95805544\n",
      " 0.9553355  0.98032042 0.94421649 0.93051618 0.94714855 0.95354459\n",
      " 0.97367191 0.94398052 0.94669044 0.94533002 0.94228816 0.93868345\n",
      " 0.9349103  0.93109965 0.92731166 0.92358828 0.91995931 0.91644436\n",
      " 0.91305125 0.90977889 0.90662032 0.9035663 ]\n",
      "15 day output [[0.9006049]]\n",
      "16 day input [0.94357018 0.94016341 0.95761451 0.96555901 0.96398022 0.96599665\n",
      " 0.95385426 0.95791745 0.96225333 0.9588196  0.96258997 0.94749192\n",
      " 0.95395527 0.95124872 0.96041861 0.95151468 0.91920929 0.92672839\n",
      " 0.92628065 0.93677685 0.93230972 0.93661528 0.91980382 0.90648124\n",
      " 0.88773275 0.88254526 0.8969868  0.88554463 0.88975592 0.9182856\n",
      " 0.92530781 0.92459411 0.92350005 0.91079214 0.92561749 0.94075251\n",
      " 0.93411074 0.94810125 0.95436932 0.94069868 0.92830382 0.91793212\n",
      " 0.93002068 0.92528422 0.97508239 0.96310494 0.9809129  0.95832074\n",
      " 0.96818814 0.97441586 0.98891468 0.99326733 0.99155721 0.97986766\n",
      " 0.97378968 0.9786675  0.99326733 0.98768255 0.98807647 0.98751761\n",
      " 1.         0.99422167 0.97383012 0.96869309 0.95970836 0.95488101\n",
      " 0.96263533 0.95430201 0.93822102 0.95620733 0.95000319 0.96600002\n",
      " 0.98203383 0.98098695 0.98720793 0.98279126 0.95805544 0.9553355\n",
      " 0.98032042 0.94421649 0.93051618 0.94714855 0.95354459 0.97367191\n",
      " 0.94398052 0.94669044 0.94533002 0.94228816 0.93868345 0.9349103\n",
      " 0.93109965 0.92731166 0.92358828 0.91995931 0.91644436 0.91305125\n",
      " 0.90977889 0.90662032 0.9035663  0.9006049 ]\n"
     ]
    },
    {
     "name": "stdout",
     "output_type": "stream",
     "text": [
      "16 day output [[0.8977252]]\n",
      "17 day input [0.94016341 0.95761451 0.96555901 0.96398022 0.96599665 0.95385426\n",
      " 0.95791745 0.96225333 0.9588196  0.96258997 0.94749192 0.95395527\n",
      " 0.95124872 0.96041861 0.95151468 0.91920929 0.92672839 0.92628065\n",
      " 0.93677685 0.93230972 0.93661528 0.91980382 0.90648124 0.88773275\n",
      " 0.88254526 0.8969868  0.88554463 0.88975592 0.9182856  0.92530781\n",
      " 0.92459411 0.92350005 0.91079214 0.92561749 0.94075251 0.93411074\n",
      " 0.94810125 0.95436932 0.94069868 0.92830382 0.91793212 0.93002068\n",
      " 0.92528422 0.97508239 0.96310494 0.9809129  0.95832074 0.96818814\n",
      " 0.97441586 0.98891468 0.99326733 0.99155721 0.97986766 0.97378968\n",
      " 0.9786675  0.99326733 0.98768255 0.98807647 0.98751761 1.\n",
      " 0.99422167 0.97383012 0.96869309 0.95970836 0.95488101 0.96263533\n",
      " 0.95430201 0.93822102 0.95620733 0.95000319 0.96600002 0.98203383\n",
      " 0.98098695 0.98720793 0.98279126 0.95805544 0.9553355  0.98032042\n",
      " 0.94421649 0.93051618 0.94714855 0.95354459 0.97367191 0.94398052\n",
      " 0.94669044 0.94533002 0.94228816 0.93868345 0.9349103  0.93109965\n",
      " 0.92731166 0.92358828 0.91995931 0.91644436 0.91305125 0.90977889\n",
      " 0.90662032 0.9035663  0.9006049  0.89772522]\n",
      "17 day output [[0.89491737]]\n",
      "18 day input [0.95761451 0.96555901 0.96398022 0.96599665 0.95385426 0.95791745\n",
      " 0.96225333 0.9588196  0.96258997 0.94749192 0.95395527 0.95124872\n",
      " 0.96041861 0.95151468 0.91920929 0.92672839 0.92628065 0.93677685\n",
      " 0.93230972 0.93661528 0.91980382 0.90648124 0.88773275 0.88254526\n",
      " 0.8969868  0.88554463 0.88975592 0.9182856  0.92530781 0.92459411\n",
      " 0.92350005 0.91079214 0.92561749 0.94075251 0.93411074 0.94810125\n",
      " 0.95436932 0.94069868 0.92830382 0.91793212 0.93002068 0.92528422\n",
      " 0.97508239 0.96310494 0.9809129  0.95832074 0.96818814 0.97441586\n",
      " 0.98891468 0.99326733 0.99155721 0.97986766 0.97378968 0.9786675\n",
      " 0.99326733 0.98768255 0.98807647 0.98751761 1.         0.99422167\n",
      " 0.97383012 0.96869309 0.95970836 0.95488101 0.96263533 0.95430201\n",
      " 0.93822102 0.95620733 0.95000319 0.96600002 0.98203383 0.98098695\n",
      " 0.98720793 0.98279126 0.95805544 0.9553355  0.98032042 0.94421649\n",
      " 0.93051618 0.94714855 0.95354459 0.97367191 0.94398052 0.94669044\n",
      " 0.94533002 0.94228816 0.93868345 0.9349103  0.93109965 0.92731166\n",
      " 0.92358828 0.91995931 0.91644436 0.91305125 0.90977889 0.90662032\n",
      " 0.9035663  0.9006049  0.89772522 0.89491737]\n",
      "18 day output [[0.89217395]]\n",
      "19 day input [0.96555901 0.96398022 0.96599665 0.95385426 0.95791745 0.96225333\n",
      " 0.9588196  0.96258997 0.94749192 0.95395527 0.95124872 0.96041861\n",
      " 0.95151468 0.91920929 0.92672839 0.92628065 0.93677685 0.93230972\n",
      " 0.93661528 0.91980382 0.90648124 0.88773275 0.88254526 0.8969868\n",
      " 0.88554463 0.88975592 0.9182856  0.92530781 0.92459411 0.92350005\n",
      " 0.91079214 0.92561749 0.94075251 0.93411074 0.94810125 0.95436932\n",
      " 0.94069868 0.92830382 0.91793212 0.93002068 0.92528422 0.97508239\n",
      " 0.96310494 0.9809129  0.95832074 0.96818814 0.97441586 0.98891468\n",
      " 0.99326733 0.99155721 0.97986766 0.97378968 0.9786675  0.99326733\n",
      " 0.98768255 0.98807647 0.98751761 1.         0.99422167 0.97383012\n",
      " 0.96869309 0.95970836 0.95488101 0.96263533 0.95430201 0.93822102\n",
      " 0.95620733 0.95000319 0.96600002 0.98203383 0.98098695 0.98720793\n",
      " 0.98279126 0.95805544 0.9553355  0.98032042 0.94421649 0.93051618\n",
      " 0.94714855 0.95354459 0.97367191 0.94398052 0.94669044 0.94533002\n",
      " 0.94228816 0.93868345 0.9349103  0.93109965 0.92731166 0.92358828\n",
      " 0.91995931 0.91644436 0.91305125 0.90977889 0.90662032 0.9035663\n",
      " 0.9006049  0.89772522 0.89491737 0.89217395]\n",
      "19 day output [[0.88948864]]\n",
      "20 day input [0.96398022 0.96599665 0.95385426 0.95791745 0.96225333 0.9588196\n",
      " 0.96258997 0.94749192 0.95395527 0.95124872 0.96041861 0.95151468\n",
      " 0.91920929 0.92672839 0.92628065 0.93677685 0.93230972 0.93661528\n",
      " 0.91980382 0.90648124 0.88773275 0.88254526 0.8969868  0.88554463\n",
      " 0.88975592 0.9182856  0.92530781 0.92459411 0.92350005 0.91079214\n",
      " 0.92561749 0.94075251 0.93411074 0.94810125 0.95436932 0.94069868\n",
      " 0.92830382 0.91793212 0.93002068 0.92528422 0.97508239 0.96310494\n",
      " 0.9809129  0.95832074 0.96818814 0.97441586 0.98891468 0.99326733\n",
      " 0.99155721 0.97986766 0.97378968 0.9786675  0.99326733 0.98768255\n",
      " 0.98807647 0.98751761 1.         0.99422167 0.97383012 0.96869309\n",
      " 0.95970836 0.95488101 0.96263533 0.95430201 0.93822102 0.95620733\n",
      " 0.95000319 0.96600002 0.98203383 0.98098695 0.98720793 0.98279126\n",
      " 0.95805544 0.9553355  0.98032042 0.94421649 0.93051618 0.94714855\n",
      " 0.95354459 0.97367191 0.94398052 0.94669044 0.94533002 0.94228816\n",
      " 0.93868345 0.9349103  0.93109965 0.92731166 0.92358828 0.91995931\n",
      " 0.91644436 0.91305125 0.90977889 0.90662032 0.9035663  0.9006049\n",
      " 0.89772522 0.89491737 0.89217395 0.88948864]\n",
      "20 day output [[0.88685757]]\n",
      "21 day input [0.96599665 0.95385426 0.95791745 0.96225333 0.9588196  0.96258997\n",
      " 0.94749192 0.95395527 0.95124872 0.96041861 0.95151468 0.91920929\n",
      " 0.92672839 0.92628065 0.93677685 0.93230972 0.93661528 0.91980382\n",
      " 0.90648124 0.88773275 0.88254526 0.8969868  0.88554463 0.88975592\n",
      " 0.9182856  0.92530781 0.92459411 0.92350005 0.91079214 0.92561749\n",
      " 0.94075251 0.93411074 0.94810125 0.95436932 0.94069868 0.92830382\n",
      " 0.91793212 0.93002068 0.92528422 0.97508239 0.96310494 0.9809129\n",
      " 0.95832074 0.96818814 0.97441586 0.98891468 0.99326733 0.99155721\n",
      " 0.97986766 0.97378968 0.9786675  0.99326733 0.98768255 0.98807647\n",
      " 0.98751761 1.         0.99422167 0.97383012 0.96869309 0.95970836\n",
      " 0.95488101 0.96263533 0.95430201 0.93822102 0.95620733 0.95000319\n",
      " 0.96600002 0.98203383 0.98098695 0.98720793 0.98279126 0.95805544\n",
      " 0.9553355  0.98032042 0.94421649 0.93051618 0.94714855 0.95354459\n",
      " 0.97367191 0.94398052 0.94669044 0.94533002 0.94228816 0.93868345\n",
      " 0.9349103  0.93109965 0.92731166 0.92358828 0.91995931 0.91644436\n",
      " 0.91305125 0.90977889 0.90662032 0.9035663  0.9006049  0.89772522\n",
      " 0.89491737 0.89217395 0.88948864 0.88685757]\n",
      "21 day output [[0.88427866]]\n",
      "22 day input [0.95385426 0.95791745 0.96225333 0.9588196  0.96258997 0.94749192\n",
      " 0.95395527 0.95124872 0.96041861 0.95151468 0.91920929 0.92672839\n",
      " 0.92628065 0.93677685 0.93230972 0.93661528 0.91980382 0.90648124\n",
      " 0.88773275 0.88254526 0.8969868  0.88554463 0.88975592 0.9182856\n",
      " 0.92530781 0.92459411 0.92350005 0.91079214 0.92561749 0.94075251\n",
      " 0.93411074 0.94810125 0.95436932 0.94069868 0.92830382 0.91793212\n",
      " 0.93002068 0.92528422 0.97508239 0.96310494 0.9809129  0.95832074\n",
      " 0.96818814 0.97441586 0.98891468 0.99326733 0.99155721 0.97986766\n",
      " 0.97378968 0.9786675  0.99326733 0.98768255 0.98807647 0.98751761\n",
      " 1.         0.99422167 0.97383012 0.96869309 0.95970836 0.95488101\n",
      " 0.96263533 0.95430201 0.93822102 0.95620733 0.95000319 0.96600002\n",
      " 0.98203383 0.98098695 0.98720793 0.98279126 0.95805544 0.9553355\n",
      " 0.98032042 0.94421649 0.93051618 0.94714855 0.95354459 0.97367191\n",
      " 0.94398052 0.94669044 0.94533002 0.94228816 0.93868345 0.9349103\n",
      " 0.93109965 0.92731166 0.92358828 0.91995931 0.91644436 0.91305125\n",
      " 0.90977889 0.90662032 0.9035663  0.9006049  0.89772522 0.89491737\n",
      " 0.89217395 0.88948864 0.88685757 0.88427866]\n",
      "22 day output [[0.88175046]]\n",
      "23 day input [0.95791745 0.96225333 0.9588196  0.96258997 0.94749192 0.95395527\n",
      " 0.95124872 0.96041861 0.95151468 0.91920929 0.92672839 0.92628065\n",
      " 0.93677685 0.93230972 0.93661528 0.91980382 0.90648124 0.88773275\n",
      " 0.88254526 0.8969868  0.88554463 0.88975592 0.9182856  0.92530781\n",
      " 0.92459411 0.92350005 0.91079214 0.92561749 0.94075251 0.93411074\n",
      " 0.94810125 0.95436932 0.94069868 0.92830382 0.91793212 0.93002068\n",
      " 0.92528422 0.97508239 0.96310494 0.9809129  0.95832074 0.96818814\n",
      " 0.97441586 0.98891468 0.99326733 0.99155721 0.97986766 0.97378968\n",
      " 0.9786675  0.99326733 0.98768255 0.98807647 0.98751761 1.\n",
      " 0.99422167 0.97383012 0.96869309 0.95970836 0.95488101 0.96263533\n",
      " 0.95430201 0.93822102 0.95620733 0.95000319 0.96600002 0.98203383\n",
      " 0.98098695 0.98720793 0.98279126 0.95805544 0.9553355  0.98032042\n",
      " 0.94421649 0.93051618 0.94714855 0.95354459 0.97367191 0.94398052\n",
      " 0.94669044 0.94533002 0.94228816 0.93868345 0.9349103  0.93109965\n",
      " 0.92731166 0.92358828 0.91995931 0.91644436 0.91305125 0.90977889\n",
      " 0.90662032 0.9035663  0.9006049  0.89772522 0.89491737 0.89217395\n",
      " 0.88948864 0.88685757 0.88427866 0.88175046]\n",
      "23 day output [[0.8792733]]\n",
      "24 day input [0.96225333 0.9588196  0.96258997 0.94749192 0.95395527 0.95124872\n",
      " 0.96041861 0.95151468 0.91920929 0.92672839 0.92628065 0.93677685\n",
      " 0.93230972 0.93661528 0.91980382 0.90648124 0.88773275 0.88254526\n",
      " 0.8969868  0.88554463 0.88975592 0.9182856  0.92530781 0.92459411\n",
      " 0.92350005 0.91079214 0.92561749 0.94075251 0.93411074 0.94810125\n",
      " 0.95436932 0.94069868 0.92830382 0.91793212 0.93002068 0.92528422\n",
      " 0.97508239 0.96310494 0.9809129  0.95832074 0.96818814 0.97441586\n",
      " 0.98891468 0.99326733 0.99155721 0.97986766 0.97378968 0.9786675\n",
      " 0.99326733 0.98768255 0.98807647 0.98751761 1.         0.99422167\n",
      " 0.97383012 0.96869309 0.95970836 0.95488101 0.96263533 0.95430201\n",
      " 0.93822102 0.95620733 0.95000319 0.96600002 0.98203383 0.98098695\n",
      " 0.98720793 0.98279126 0.95805544 0.9553355  0.98032042 0.94421649\n",
      " 0.93051618 0.94714855 0.95354459 0.97367191 0.94398052 0.94669044\n",
      " 0.94533002 0.94228816 0.93868345 0.9349103  0.93109965 0.92731166\n",
      " 0.92358828 0.91995931 0.91644436 0.91305125 0.90977889 0.90662032\n",
      " 0.9035663  0.9006049  0.89772522 0.89491737 0.89217395 0.88948864\n",
      " 0.88685757 0.88427866 0.88175046 0.8792733 ]\n",
      "24 day output [[0.87684757]]\n",
      "25 day input [0.9588196  0.96258997 0.94749192 0.95395527 0.95124872 0.96041861\n",
      " 0.95151468 0.91920929 0.92672839 0.92628065 0.93677685 0.93230972\n",
      " 0.93661528 0.91980382 0.90648124 0.88773275 0.88254526 0.8969868\n",
      " 0.88554463 0.88975592 0.9182856  0.92530781 0.92459411 0.92350005\n",
      " 0.91079214 0.92561749 0.94075251 0.93411074 0.94810125 0.95436932\n",
      " 0.94069868 0.92830382 0.91793212 0.93002068 0.92528422 0.97508239\n",
      " 0.96310494 0.9809129  0.95832074 0.96818814 0.97441586 0.98891468\n",
      " 0.99326733 0.99155721 0.97986766 0.97378968 0.9786675  0.99326733\n",
      " 0.98768255 0.98807647 0.98751761 1.         0.99422167 0.97383012\n",
      " 0.96869309 0.95970836 0.95488101 0.96263533 0.95430201 0.93822102\n",
      " 0.95620733 0.95000319 0.96600002 0.98203383 0.98098695 0.98720793\n",
      " 0.98279126 0.95805544 0.9553355  0.98032042 0.94421649 0.93051618\n",
      " 0.94714855 0.95354459 0.97367191 0.94398052 0.94669044 0.94533002\n",
      " 0.94228816 0.93868345 0.9349103  0.93109965 0.92731166 0.92358828\n",
      " 0.91995931 0.91644436 0.91305125 0.90977889 0.90662032 0.9035663\n",
      " 0.9006049  0.89772522 0.89491737 0.89217395 0.88948864 0.88685757\n",
      " 0.88427866 0.88175046 0.8792733  0.87684757]\n"
     ]
    },
    {
     "name": "stdout",
     "output_type": "stream",
     "text": [
      "25 day output [[0.87447387]]\n",
      "26 day input [0.96258997 0.94749192 0.95395527 0.95124872 0.96041861 0.95151468\n",
      " 0.91920929 0.92672839 0.92628065 0.93677685 0.93230972 0.93661528\n",
      " 0.91980382 0.90648124 0.88773275 0.88254526 0.8969868  0.88554463\n",
      " 0.88975592 0.9182856  0.92530781 0.92459411 0.92350005 0.91079214\n",
      " 0.92561749 0.94075251 0.93411074 0.94810125 0.95436932 0.94069868\n",
      " 0.92830382 0.91793212 0.93002068 0.92528422 0.97508239 0.96310494\n",
      " 0.9809129  0.95832074 0.96818814 0.97441586 0.98891468 0.99326733\n",
      " 0.99155721 0.97986766 0.97378968 0.9786675  0.99326733 0.98768255\n",
      " 0.98807647 0.98751761 1.         0.99422167 0.97383012 0.96869309\n",
      " 0.95970836 0.95488101 0.96263533 0.95430201 0.93822102 0.95620733\n",
      " 0.95000319 0.96600002 0.98203383 0.98098695 0.98720793 0.98279126\n",
      " 0.95805544 0.9553355  0.98032042 0.94421649 0.93051618 0.94714855\n",
      " 0.95354459 0.97367191 0.94398052 0.94669044 0.94533002 0.94228816\n",
      " 0.93868345 0.9349103  0.93109965 0.92731166 0.92358828 0.91995931\n",
      " 0.91644436 0.91305125 0.90977889 0.90662032 0.9035663  0.9006049\n",
      " 0.89772522 0.89491737 0.89217395 0.88948864 0.88685757 0.88427866\n",
      " 0.88175046 0.8792733  0.87684757 0.87447387]\n",
      "26 day output [[0.87215304]]\n",
      "27 day input [0.94749192 0.95395527 0.95124872 0.96041861 0.95151468 0.91920929\n",
      " 0.92672839 0.92628065 0.93677685 0.93230972 0.93661528 0.91980382\n",
      " 0.90648124 0.88773275 0.88254526 0.8969868  0.88554463 0.88975592\n",
      " 0.9182856  0.92530781 0.92459411 0.92350005 0.91079214 0.92561749\n",
      " 0.94075251 0.93411074 0.94810125 0.95436932 0.94069868 0.92830382\n",
      " 0.91793212 0.93002068 0.92528422 0.97508239 0.96310494 0.9809129\n",
      " 0.95832074 0.96818814 0.97441586 0.98891468 0.99326733 0.99155721\n",
      " 0.97986766 0.97378968 0.9786675  0.99326733 0.98768255 0.98807647\n",
      " 0.98751761 1.         0.99422167 0.97383012 0.96869309 0.95970836\n",
      " 0.95488101 0.96263533 0.95430201 0.93822102 0.95620733 0.95000319\n",
      " 0.96600002 0.98203383 0.98098695 0.98720793 0.98279126 0.95805544\n",
      " 0.9553355  0.98032042 0.94421649 0.93051618 0.94714855 0.95354459\n",
      " 0.97367191 0.94398052 0.94669044 0.94533002 0.94228816 0.93868345\n",
      " 0.9349103  0.93109965 0.92731166 0.92358828 0.91995931 0.91644436\n",
      " 0.91305125 0.90977889 0.90662032 0.9035663  0.9006049  0.89772522\n",
      " 0.89491737 0.89217395 0.88948864 0.88685757 0.88427866 0.88175046\n",
      " 0.8792733  0.87684757 0.87447387 0.87215304]\n",
      "27 day output [[0.86988586]]\n",
      "28 day input [0.95395527 0.95124872 0.96041861 0.95151468 0.91920929 0.92672839\n",
      " 0.92628065 0.93677685 0.93230972 0.93661528 0.91980382 0.90648124\n",
      " 0.88773275 0.88254526 0.8969868  0.88554463 0.88975592 0.9182856\n",
      " 0.92530781 0.92459411 0.92350005 0.91079214 0.92561749 0.94075251\n",
      " 0.93411074 0.94810125 0.95436932 0.94069868 0.92830382 0.91793212\n",
      " 0.93002068 0.92528422 0.97508239 0.96310494 0.9809129  0.95832074\n",
      " 0.96818814 0.97441586 0.98891468 0.99326733 0.99155721 0.97986766\n",
      " 0.97378968 0.9786675  0.99326733 0.98768255 0.98807647 0.98751761\n",
      " 1.         0.99422167 0.97383012 0.96869309 0.95970836 0.95488101\n",
      " 0.96263533 0.95430201 0.93822102 0.95620733 0.95000319 0.96600002\n",
      " 0.98203383 0.98098695 0.98720793 0.98279126 0.95805544 0.9553355\n",
      " 0.98032042 0.94421649 0.93051618 0.94714855 0.95354459 0.97367191\n",
      " 0.94398052 0.94669044 0.94533002 0.94228816 0.93868345 0.9349103\n",
      " 0.93109965 0.92731166 0.92358828 0.91995931 0.91644436 0.91305125\n",
      " 0.90977889 0.90662032 0.9035663  0.9006049  0.89772522 0.89491737\n",
      " 0.89217395 0.88948864 0.88685757 0.88427866 0.88175046 0.8792733\n",
      " 0.87684757 0.87447387 0.87215304 0.86988586]\n",
      "28 day output [[0.86767274]]\n",
      "29 day input [0.95124872 0.96041861 0.95151468 0.91920929 0.92672839 0.92628065\n",
      " 0.93677685 0.93230972 0.93661528 0.91980382 0.90648124 0.88773275\n",
      " 0.88254526 0.8969868  0.88554463 0.88975592 0.9182856  0.92530781\n",
      " 0.92459411 0.92350005 0.91079214 0.92561749 0.94075251 0.93411074\n",
      " 0.94810125 0.95436932 0.94069868 0.92830382 0.91793212 0.93002068\n",
      " 0.92528422 0.97508239 0.96310494 0.9809129  0.95832074 0.96818814\n",
      " 0.97441586 0.98891468 0.99326733 0.99155721 0.97986766 0.97378968\n",
      " 0.9786675  0.99326733 0.98768255 0.98807647 0.98751761 1.\n",
      " 0.99422167 0.97383012 0.96869309 0.95970836 0.95488101 0.96263533\n",
      " 0.95430201 0.93822102 0.95620733 0.95000319 0.96600002 0.98203383\n",
      " 0.98098695 0.98720793 0.98279126 0.95805544 0.9553355  0.98032042\n",
      " 0.94421649 0.93051618 0.94714855 0.95354459 0.97367191 0.94398052\n",
      " 0.94669044 0.94533002 0.94228816 0.93868345 0.9349103  0.93109965\n",
      " 0.92731166 0.92358828 0.91995931 0.91644436 0.91305125 0.90977889\n",
      " 0.90662032 0.9035663  0.9006049  0.89772522 0.89491737 0.89217395\n",
      " 0.88948864 0.88685757 0.88427866 0.88175046 0.8792733  0.87684757\n",
      " 0.87447387 0.87215304 0.86988586 0.86767274]\n",
      "29 day output [[0.8655135]]\n",
      "[[0.9439805150032043], [0.9466904401779175], [0.945330023765564], [0.9422881603240967], [0.9386834502220154], [0.9349102973937988], [0.9310996532440186], [0.9273116588592529], [0.9235882759094238], [0.919959306716919], [0.9164443612098694], [0.9130512475967407], [0.909778892993927], [0.9066203236579895], [0.903566300868988], [0.9006049036979675], [0.8977252244949341], [0.894917368888855], [0.8921739459037781], [0.8894886374473572], [0.8868575692176819], [0.8842786550521851], [0.8817504644393921], [0.8792732954025269], [0.8768475651741028], [0.8744738698005676], [0.8721530437469482], [0.8698858618736267], [0.8676727414131165], [0.8655135035514832]]\n"
     ]
    }
   ],
   "source": [
    "# demonstrate prediction for next 10 days\n",
    "from numpy import array\n",
    "\n",
    "lst_output=[]\n",
    "n_steps=100\n",
    "i=0\n",
    "while(i<30):\n",
    "    \n",
    "    if(len(temp_input)>100):\n",
    "        #print(temp_input)\n",
    "        x_input=np.array(temp_input[1:])\n",
    "        print(\"{} day input {}\".format(i,x_input))\n",
    "        x_input=x_input.reshape(1,-1)\n",
    "        x_input = x_input.reshape((1, n_steps, 1))\n",
    "        #print(x_input)\n",
    "        yhat = model.predict(x_input, verbose=0)\n",
    "        print(\"{} day output {}\".format(i,yhat))\n",
    "        temp_input.extend(yhat[0].tolist())\n",
    "        temp_input=temp_input[1:]\n",
    "        #print(temp_input)\n",
    "        lst_output.extend(yhat.tolist())\n",
    "        i=i+1\n",
    "    else:\n",
    "        x_input = x_input.reshape((1, n_steps,1))\n",
    "        yhat = model.predict(x_input, verbose=0)\n",
    "        print(yhat[0])\n",
    "        temp_input.extend(yhat[0].tolist())\n",
    "        print(len(temp_input))\n",
    "        lst_output.extend(yhat.tolist())\n",
    "        i=i+1\n",
    "    \n",
    "\n",
    "print(lst_output)"
   ]
  },
  {
   "cell_type": "code",
   "execution_count": 74,
   "metadata": {},
   "outputs": [],
   "source": [
    "day_new=np.arange(1,101)\n",
    "day_pred=np.arange(101,131)"
   ]
  },
  {
   "cell_type": "code",
   "execution_count": 75,
   "metadata": {},
   "outputs": [
    {
     "data": {
      "text/plain": [
       "4369"
      ]
     },
     "execution_count": 75,
     "metadata": {},
     "output_type": "execute_result"
    }
   ],
   "source": [
    "len(df1)"
   ]
  },
  {
   "cell_type": "code",
   "execution_count": 76,
   "metadata": {},
   "outputs": [
    {
     "data": {
      "text/plain": [
       "[<matplotlib.lines.Line2D at 0x216d2d10eb0>]"
      ]
     },
     "execution_count": 76,
     "metadata": {},
     "output_type": "execute_result"
    },
    {
     "data": {
      "image/png": "[encoded data removed]",
      "text/plain": [
       "<Figure size 432x288 with 1 Axes>"
      ]
     },
     "metadata": {
      "needs_background": "light"
     },
     "output_type": "display_data"
    }
   ],
   "source": [
    "plt.plot(day_new,scaler.inverse_transform(df1[4269:]))\n",
    "plt.plot(day_pred,scaler.inverse_transform(lst_output))"
   ]
  },
  {
   "cell_type": "code",
   "execution_count": 77,
   "metadata": {},
   "outputs": [
    {
     "data": {
      "text/plain": [
       "[<matplotlib.lines.Line2D at 0x216d2d0a910>]"
      ]
     },
     "execution_count": 77,
     "metadata": {},
     "output_type": "execute_result"
    },
    {
     "data": {
      "image/png": "[encoded data removed]",
      "text/plain": [
       "<Figure size 432x288 with 1 Axes>"
      ]
     },
     "metadata": {
      "needs_background": "light"
     },
     "output_type": "display_data"
    }
   ],
   "source": [
    "df3=df1.tolist()\n",
    "df3.extend(lst_output)\n",
    "plt.plot(df3[1200:])"
   ]
  },
  {
   "cell_type": "code",
   "execution_count": 78,
   "metadata": {},
   "outputs": [],
   "source": [
    "df3=scaler.inverse_transform(df3).tolist()"
   ]
  },
  {
   "cell_type": "code",
   "execution_count": 79,
   "metadata": {},
   "outputs": [
    {
     "data": {
      "text/plain": [
       "[<matplotlib.lines.Line2D at 0x216d2d0fac0>]"
      ]
     },
     "execution_count": 79,
     "metadata": {},
     "output_type": "execute_result"
    },
    {
     "data": {
      "image/png": "[encoded data removed]",
      "text/plain": [
       "<Figure size 432x288 with 1 Axes>"
      ]
     },
     "metadata": {
      "needs_background": "light"
     },
     "output_type": "display_data"
    }
   ],
   "source": [
    "plt.plot(df3[2000:])"
   ]
  },
  {
   "cell_type": "code",
   "execution_count": null,
   "metadata": {},
   "outputs": [],
   "source": []
  }
 ],
 "metadata": {
  "kernelspec": {
   "display_name": "Python 3",
   "language": "python",
   "name": "python3"
  },
  "language_info": {
   "codemirror_mode": {
    "name": "ipython",
    "version": 3
   },
   "file_extension": ".py",
   "mimetype": "text/x-python",
   "name": "python",
   "nbconvert_exporter": "python",
   "pygments_lexer": "ipython3",
   "version": "3.8.3"
  }
 },
 "nbformat": 4,
 "nbformat_minor": 4
}
