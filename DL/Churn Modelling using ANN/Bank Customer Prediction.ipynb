{
 "cells": [
  {
   "cell_type": "markdown",
   "metadata": {},
   "source": [
    "# Importing modules and dataset"
   ]
  },
  {
   "cell_type": "code",
   "execution_count": 1,
   "metadata": {},
   "outputs": [],
   "source": [
    "import numpy as np\n",
    "import pandas as pd\n",
    "import matplotlib.pyplot as plt\n",
    "import seaborn as sns\n",
    "%matplotlib inline"
   ]
  },
  {
   "cell_type": "code",
   "execution_count": 2,
   "metadata": {},
   "outputs": [
    {
     "data": {
      "text/html": [
       "<div>\n",
       "<style scoped>\n",
       "    .dataframe tbody tr th:only-of-type {\n",
       "        vertical-align: middle;\n",
       "    }\n",
       "\n",
       "    .dataframe tbody tr th {\n",
       "        vertical-align: top;\n",
       "    }\n",
       "\n",
       "    .dataframe thead th {\n",
       "        text-align: right;\n",
       "    }\n",
       "</style>\n",
       "<table border=\"1\" class=\"dataframe\">\n",
       "  <thead>\n",
       "    <tr style=\"text-align: right;\">\n",
       "      <th></th>\n",
       "      <th>RowNumber</th>\n",
       "      <th>CustomerId</th>\n",
       "      <th>Surname</th>\n",
       "      <th>CreditScore</th>\n",
       "      <th>Geography</th>\n",
       "      <th>Gender</th>\n",
       "      <th>Age</th>\n",
       "      <th>Tenure</th>\n",
       "      <th>Balance</th>\n",
       "      <th>NumOfProducts</th>\n",
       "      <th>HasCrCard</th>\n",
       "      <th>IsActiveMember</th>\n",
       "      <th>EstimatedSalary</th>\n",
       "      <th>Exited</th>\n",
       "    </tr>\n",
       "  </thead>\n",
       "  <tbody>\n",
       "    <tr>\n",
       "      <th>0</th>\n",
       "      <td>1</td>\n",
       "      <td>15634602</td>\n",
       "      <td>Hargrave</td>\n",
       "      <td>619</td>\n",
       "      <td>France</td>\n",
       "      <td>Female</td>\n",
       "      <td>42</td>\n",
       "      <td>2</td>\n",
       "      <td>0.00</td>\n",
       "      <td>1</td>\n",
       "      <td>1</td>\n",
       "      <td>1</td>\n",
       "      <td>101348.88</td>\n",
       "      <td>1</td>\n",
       "    </tr>\n",
       "    <tr>\n",
       "      <th>1</th>\n",
       "      <td>2</td>\n",
       "      <td>15647311</td>\n",
       "      <td>Hill</td>\n",
       "      <td>608</td>\n",
       "      <td>Spain</td>\n",
       "      <td>Female</td>\n",
       "      <td>41</td>\n",
       "      <td>1</td>\n",
       "      <td>83807.86</td>\n",
       "      <td>1</td>\n",
       "      <td>0</td>\n",
       "      <td>1</td>\n",
       "      <td>112542.58</td>\n",
       "      <td>0</td>\n",
       "    </tr>\n",
       "    <tr>\n",
       "      <th>2</th>\n",
       "      <td>3</td>\n",
       "      <td>15619304</td>\n",
       "      <td>Onio</td>\n",
       "      <td>502</td>\n",
       "      <td>France</td>\n",
       "      <td>Female</td>\n",
       "      <td>42</td>\n",
       "      <td>8</td>\n",
       "      <td>159660.80</td>\n",
       "      <td>3</td>\n",
       "      <td>1</td>\n",
       "      <td>0</td>\n",
       "      <td>113931.57</td>\n",
       "      <td>1</td>\n",
       "    </tr>\n",
       "    <tr>\n",
       "      <th>3</th>\n",
       "      <td>4</td>\n",
       "      <td>15701354</td>\n",
       "      <td>Boni</td>\n",
       "      <td>699</td>\n",
       "      <td>France</td>\n",
       "      <td>Female</td>\n",
       "      <td>39</td>\n",
       "      <td>1</td>\n",
       "      <td>0.00</td>\n",
       "      <td>2</td>\n",
       "      <td>0</td>\n",
       "      <td>0</td>\n",
       "      <td>93826.63</td>\n",
       "      <td>0</td>\n",
       "    </tr>\n",
       "    <tr>\n",
       "      <th>4</th>\n",
       "      <td>5</td>\n",
       "      <td>15737888</td>\n",
       "      <td>Mitchell</td>\n",
       "      <td>850</td>\n",
       "      <td>Spain</td>\n",
       "      <td>Female</td>\n",
       "      <td>43</td>\n",
       "      <td>2</td>\n",
       "      <td>125510.82</td>\n",
       "      <td>1</td>\n",
       "      <td>1</td>\n",
       "      <td>1</td>\n",
       "      <td>79084.10</td>\n",
       "      <td>0</td>\n",
       "    </tr>\n",
       "  </tbody>\n",
       "</table>\n",
       "</div>"
      ],
      "text/plain": [
       "   RowNumber  CustomerId   Surname  CreditScore Geography  Gender  Age  \\\n",
       "0          1    15634602  Hargrave          619    France  Female   42   \n",
       "1          2    15647311      Hill          608     Spain  Female   41   \n",
       "2          3    15619304      Onio          502    France  Female   42   \n",
       "3          4    15701354      Boni          699    France  Female   39   \n",
       "4          5    15737888  Mitchell          850     Spain  Female   43   \n",
       "\n",
       "   Tenure    Balance  NumOfProducts  HasCrCard  IsActiveMember  \\\n",
       "0       2       0.00              1          1               1   \n",
       "1       1   83807.86              1          0               1   \n",
       "2       8  159660.80              3          1               0   \n",
       "3       1       0.00              2          0               0   \n",
       "4       2  125510.82              1          1               1   \n",
       "\n",
       "   EstimatedSalary  Exited  \n",
       "0        101348.88       1  \n",
       "1        112542.58       0  \n",
       "2        113931.57       1  \n",
       "3         93826.63       0  \n",
       "4         79084.10       0  "
      ]
     },
     "execution_count": 2,
     "metadata": {},
     "output_type": "execute_result"
    }
   ],
   "source": [
    "#reading the dataset\n",
    "dataset=pd.read_csv('Churn_Modelling.csv')\n",
    "dataset.head()"
   ]
  },
  {
   "cell_type": "code",
   "execution_count": 3,
   "metadata": {},
   "outputs": [],
   "source": [
    "#Dividing data into dependent and independent features\n",
    "X=dataset.iloc[:,3:13]\n",
    "y=dataset.iloc[:,13]"
   ]
  },
  {
   "cell_type": "code",
   "execution_count": 4,
   "metadata": {},
   "outputs": [
    {
     "name": "stdout",
     "output_type": "stream",
     "text": [
      "<class 'pandas.core.frame.DataFrame'>\n",
      "RangeIndex: 10000 entries, 0 to 9999\n",
      "Data columns (total 14 columns):\n",
      " #   Column           Non-Null Count  Dtype  \n",
      "---  ------           --------------  -----  \n",
      " 0   RowNumber        10000 non-null  int64  \n",
      " 1   CustomerId       10000 non-null  int64  \n",
      " 2   Surname          10000 non-null  object \n",
      " 3   CreditScore      10000 non-null  int64  \n",
      " 4   Geography        10000 non-null  object \n",
      " 5   Gender           10000 non-null  object \n",
      " 6   Age              10000 non-null  int64  \n",
      " 7   Tenure           10000 non-null  int64  \n",
      " 8   Balance          10000 non-null  float64\n",
      " 9   NumOfProducts    10000 non-null  int64  \n",
      " 10  HasCrCard        10000 non-null  int64  \n",
      " 11  IsActiveMember   10000 non-null  int64  \n",
      " 12  EstimatedSalary  10000 non-null  float64\n",
      " 13  Exited           10000 non-null  int64  \n",
      "dtypes: float64(2), int64(9), object(3)\n",
      "memory usage: 1.1+ MB\n"
     ]
    }
   ],
   "source": [
    "dataset.info()"
   ]
  },
  {
   "cell_type": "code",
   "execution_count": 5,
   "metadata": {},
   "outputs": [
    {
     "data": {
      "text/html": [
       "<div>\n",
       "<style scoped>\n",
       "    .dataframe tbody tr th:only-of-type {\n",
       "        vertical-align: middle;\n",
       "    }\n",
       "\n",
       "    .dataframe tbody tr th {\n",
       "        vertical-align: top;\n",
       "    }\n",
       "\n",
       "    .dataframe thead th {\n",
       "        text-align: right;\n",
       "    }\n",
       "</style>\n",
       "<table border=\"1\" class=\"dataframe\">\n",
       "  <thead>\n",
       "    <tr style=\"text-align: right;\">\n",
       "      <th></th>\n",
       "      <th>RowNumber</th>\n",
       "      <th>CustomerId</th>\n",
       "      <th>CreditScore</th>\n",
       "      <th>Age</th>\n",
       "      <th>Tenure</th>\n",
       "      <th>Balance</th>\n",
       "      <th>NumOfProducts</th>\n",
       "      <th>HasCrCard</th>\n",
       "      <th>IsActiveMember</th>\n",
       "      <th>EstimatedSalary</th>\n",
       "      <th>Exited</th>\n",
       "    </tr>\n",
       "  </thead>\n",
       "  <tbody>\n",
       "    <tr>\n",
       "      <th>count</th>\n",
       "      <td>10000.00000</td>\n",
       "      <td>1.000000e+04</td>\n",
       "      <td>10000.000000</td>\n",
       "      <td>10000.000000</td>\n",
       "      <td>10000.000000</td>\n",
       "      <td>10000.000000</td>\n",
       "      <td>10000.000000</td>\n",
       "      <td>10000.00000</td>\n",
       "      <td>10000.000000</td>\n",
       "      <td>10000.000000</td>\n",
       "      <td>10000.000000</td>\n",
       "    </tr>\n",
       "    <tr>\n",
       "      <th>mean</th>\n",
       "      <td>5000.50000</td>\n",
       "      <td>1.569094e+07</td>\n",
       "      <td>650.528800</td>\n",
       "      <td>38.921800</td>\n",
       "      <td>5.012800</td>\n",
       "      <td>76485.889288</td>\n",
       "      <td>1.530200</td>\n",
       "      <td>0.70550</td>\n",
       "      <td>0.515100</td>\n",
       "      <td>100090.239881</td>\n",
       "      <td>0.203700</td>\n",
       "    </tr>\n",
       "    <tr>\n",
       "      <th>std</th>\n",
       "      <td>2886.89568</td>\n",
       "      <td>7.193619e+04</td>\n",
       "      <td>96.653299</td>\n",
       "      <td>10.487806</td>\n",
       "      <td>2.892174</td>\n",
       "      <td>62397.405202</td>\n",
       "      <td>0.581654</td>\n",
       "      <td>0.45584</td>\n",
       "      <td>0.499797</td>\n",
       "      <td>57510.492818</td>\n",
       "      <td>0.402769</td>\n",
       "    </tr>\n",
       "    <tr>\n",
       "      <th>min</th>\n",
       "      <td>1.00000</td>\n",
       "      <td>1.556570e+07</td>\n",
       "      <td>350.000000</td>\n",
       "      <td>18.000000</td>\n",
       "      <td>0.000000</td>\n",
       "      <td>0.000000</td>\n",
       "      <td>1.000000</td>\n",
       "      <td>0.00000</td>\n",
       "      <td>0.000000</td>\n",
       "      <td>11.580000</td>\n",
       "      <td>0.000000</td>\n",
       "    </tr>\n",
       "    <tr>\n",
       "      <th>25%</th>\n",
       "      <td>2500.75000</td>\n",
       "      <td>1.562853e+07</td>\n",
       "      <td>584.000000</td>\n",
       "      <td>32.000000</td>\n",
       "      <td>3.000000</td>\n",
       "      <td>0.000000</td>\n",
       "      <td>1.000000</td>\n",
       "      <td>0.00000</td>\n",
       "      <td>0.000000</td>\n",
       "      <td>51002.110000</td>\n",
       "      <td>0.000000</td>\n",
       "    </tr>\n",
       "    <tr>\n",
       "      <th>50%</th>\n",
       "      <td>5000.50000</td>\n",
       "      <td>1.569074e+07</td>\n",
       "      <td>652.000000</td>\n",
       "      <td>37.000000</td>\n",
       "      <td>5.000000</td>\n",
       "      <td>97198.540000</td>\n",
       "      <td>1.000000</td>\n",
       "      <td>1.00000</td>\n",
       "      <td>1.000000</td>\n",
       "      <td>100193.915000</td>\n",
       "      <td>0.000000</td>\n",
       "    </tr>\n",
       "    <tr>\n",
       "      <th>75%</th>\n",
       "      <td>7500.25000</td>\n",
       "      <td>1.575323e+07</td>\n",
       "      <td>718.000000</td>\n",
       "      <td>44.000000</td>\n",
       "      <td>7.000000</td>\n",
       "      <td>127644.240000</td>\n",
       "      <td>2.000000</td>\n",
       "      <td>1.00000</td>\n",
       "      <td>1.000000</td>\n",
       "      <td>149388.247500</td>\n",
       "      <td>0.000000</td>\n",
       "    </tr>\n",
       "    <tr>\n",
       "      <th>max</th>\n",
       "      <td>10000.00000</td>\n",
       "      <td>1.581569e+07</td>\n",
       "      <td>850.000000</td>\n",
       "      <td>92.000000</td>\n",
       "      <td>10.000000</td>\n",
       "      <td>250898.090000</td>\n",
       "      <td>4.000000</td>\n",
       "      <td>1.00000</td>\n",
       "      <td>1.000000</td>\n",
       "      <td>199992.480000</td>\n",
       "      <td>1.000000</td>\n",
       "    </tr>\n",
       "  </tbody>\n",
       "</table>\n",
       "</div>"
      ],
      "text/plain": [
       "         RowNumber    CustomerId   CreditScore           Age        Tenure  \\\n",
       "count  10000.00000  1.000000e+04  10000.000000  10000.000000  10000.000000   \n",
       "mean    5000.50000  1.569094e+07    650.528800     38.921800      5.012800   \n",
       "std     2886.89568  7.193619e+04     96.653299     10.487806      2.892174   \n",
       "min        1.00000  1.556570e+07    350.000000     18.000000      0.000000   \n",
       "25%     2500.75000  1.562853e+07    584.000000     32.000000      3.000000   \n",
       "50%     5000.50000  1.569074e+07    652.000000     37.000000      5.000000   \n",
       "75%     7500.25000  1.575323e+07    718.000000     44.000000      7.000000   \n",
       "max    10000.00000  1.581569e+07    850.000000     92.000000     10.000000   \n",
       "\n",
       "             Balance  NumOfProducts    HasCrCard  IsActiveMember  \\\n",
       "count   10000.000000   10000.000000  10000.00000    10000.000000   \n",
       "mean    76485.889288       1.530200      0.70550        0.515100   \n",
       "std     62397.405202       0.581654      0.45584        0.499797   \n",
       "min         0.000000       1.000000      0.00000        0.000000   \n",
       "25%         0.000000       1.000000      0.00000        0.000000   \n",
       "50%     97198.540000       1.000000      1.00000        1.000000   \n",
       "75%    127644.240000       2.000000      1.00000        1.000000   \n",
       "max    250898.090000       4.000000      1.00000        1.000000   \n",
       "\n",
       "       EstimatedSalary        Exited  \n",
       "count     10000.000000  10000.000000  \n",
       "mean     100090.239881      0.203700  \n",
       "std       57510.492818      0.402769  \n",
       "min          11.580000      0.000000  \n",
       "25%       51002.110000      0.000000  \n",
       "50%      100193.915000      0.000000  \n",
       "75%      149388.247500      0.000000  \n",
       "max      199992.480000      1.000000  "
      ]
     },
     "execution_count": 5,
     "metadata": {},
     "output_type": "execute_result"
    }
   ],
   "source": [
    "dataset.describe()"
   ]
  },
  {
   "cell_type": "code",
   "execution_count": 6,
   "metadata": {},
   "outputs": [
    {
     "data": {
      "text/plain": [
       "RowNumber          0\n",
       "CustomerId         0\n",
       "Surname            0\n",
       "CreditScore        0\n",
       "Geography          0\n",
       "Gender             0\n",
       "Age                0\n",
       "Tenure             0\n",
       "Balance            0\n",
       "NumOfProducts      0\n",
       "HasCrCard          0\n",
       "IsActiveMember     0\n",
       "EstimatedSalary    0\n",
       "Exited             0\n",
       "dtype: int64"
      ]
     },
     "execution_count": 6,
     "metadata": {},
     "output_type": "execute_result"
    }
   ],
   "source": [
    "#checking for null values\n",
    "dataset.isnull().sum()"
   ]
  },
  {
   "cell_type": "markdown",
   "metadata": {},
   "source": [
    "# Data Preprocessing"
   ]
  },
  {
   "cell_type": "code",
   "execution_count": 7,
   "metadata": {},
   "outputs": [],
   "source": [
    "#converting categorical to numerical features\n",
    "geography=pd.get_dummies(X['Geography'],drop_first=True)\n",
    "gender=pd.get_dummies(X['Gender'],drop_first=True)"
   ]
  },
  {
   "cell_type": "code",
   "execution_count": 8,
   "metadata": {},
   "outputs": [],
   "source": [
    "X=pd.concat([X,geography,gender],axis=1)"
   ]
  },
  {
   "cell_type": "code",
   "execution_count": 9,
   "metadata": {},
   "outputs": [],
   "source": [
    "X=X.drop(['Geography','Gender'],axis=1)"
   ]
  },
  {
   "cell_type": "code",
   "execution_count": 10,
   "metadata": {},
   "outputs": [
    {
     "data": {
      "text/html": [
       "<div>\n",
       "<style scoped>\n",
       "    .dataframe tbody tr th:only-of-type {\n",
       "        vertical-align: middle;\n",
       "    }\n",
       "\n",
       "    .dataframe tbody tr th {\n",
       "        vertical-align: top;\n",
       "    }\n",
       "\n",
       "    .dataframe thead th {\n",
       "        text-align: right;\n",
       "    }\n",
       "</style>\n",
       "<table border=\"1\" class=\"dataframe\">\n",
       "  <thead>\n",
       "    <tr style=\"text-align: right;\">\n",
       "      <th></th>\n",
       "      <th>CreditScore</th>\n",
       "      <th>Age</th>\n",
       "      <th>Tenure</th>\n",
       "      <th>Balance</th>\n",
       "      <th>NumOfProducts</th>\n",
       "      <th>HasCrCard</th>\n",
       "      <th>IsActiveMember</th>\n",
       "      <th>EstimatedSalary</th>\n",
       "      <th>Germany</th>\n",
       "      <th>Spain</th>\n",
       "      <th>Male</th>\n",
       "    </tr>\n",
       "  </thead>\n",
       "  <tbody>\n",
       "    <tr>\n",
       "      <th>0</th>\n",
       "      <td>619</td>\n",
       "      <td>42</td>\n",
       "      <td>2</td>\n",
       "      <td>0.00</td>\n",
       "      <td>1</td>\n",
       "      <td>1</td>\n",
       "      <td>1</td>\n",
       "      <td>101348.88</td>\n",
       "      <td>0</td>\n",
       "      <td>0</td>\n",
       "      <td>0</td>\n",
       "    </tr>\n",
       "    <tr>\n",
       "      <th>1</th>\n",
       "      <td>608</td>\n",
       "      <td>41</td>\n",
       "      <td>1</td>\n",
       "      <td>83807.86</td>\n",
       "      <td>1</td>\n",
       "      <td>0</td>\n",
       "      <td>1</td>\n",
       "      <td>112542.58</td>\n",
       "      <td>0</td>\n",
       "      <td>1</td>\n",
       "      <td>0</td>\n",
       "    </tr>\n",
       "    <tr>\n",
       "      <th>2</th>\n",
       "      <td>502</td>\n",
       "      <td>42</td>\n",
       "      <td>8</td>\n",
       "      <td>159660.80</td>\n",
       "      <td>3</td>\n",
       "      <td>1</td>\n",
       "      <td>0</td>\n",
       "      <td>113931.57</td>\n",
       "      <td>0</td>\n",
       "      <td>0</td>\n",
       "      <td>0</td>\n",
       "    </tr>\n",
       "    <tr>\n",
       "      <th>3</th>\n",
       "      <td>699</td>\n",
       "      <td>39</td>\n",
       "      <td>1</td>\n",
       "      <td>0.00</td>\n",
       "      <td>2</td>\n",
       "      <td>0</td>\n",
       "      <td>0</td>\n",
       "      <td>93826.63</td>\n",
       "      <td>0</td>\n",
       "      <td>0</td>\n",
       "      <td>0</td>\n",
       "    </tr>\n",
       "    <tr>\n",
       "      <th>4</th>\n",
       "      <td>850</td>\n",
       "      <td>43</td>\n",
       "      <td>2</td>\n",
       "      <td>125510.82</td>\n",
       "      <td>1</td>\n",
       "      <td>1</td>\n",
       "      <td>1</td>\n",
       "      <td>79084.10</td>\n",
       "      <td>0</td>\n",
       "      <td>1</td>\n",
       "      <td>0</td>\n",
       "    </tr>\n",
       "  </tbody>\n",
       "</table>\n",
       "</div>"
      ],
      "text/plain": [
       "   CreditScore  Age  Tenure    Balance  NumOfProducts  HasCrCard  \\\n",
       "0          619   42       2       0.00              1          1   \n",
       "1          608   41       1   83807.86              1          0   \n",
       "2          502   42       8  159660.80              3          1   \n",
       "3          699   39       1       0.00              2          0   \n",
       "4          850   43       2  125510.82              1          1   \n",
       "\n",
       "   IsActiveMember  EstimatedSalary  Germany  Spain  Male  \n",
       "0               1        101348.88        0      0     0  \n",
       "1               1        112542.58        0      1     0  \n",
       "2               0        113931.57        0      0     0  \n",
       "3               0         93826.63        0      0     0  \n",
       "4               1         79084.10        0      1     0  "
      ]
     },
     "execution_count": 10,
     "metadata": {},
     "output_type": "execute_result"
    }
   ],
   "source": [
    "X.head()"
   ]
  },
  {
   "cell_type": "code",
   "execution_count": 11,
   "metadata": {},
   "outputs": [
    {
     "data": {
      "text/plain": [
       "((10000, 11), (10000,))"
      ]
     },
     "execution_count": 11,
     "metadata": {},
     "output_type": "execute_result"
    }
   ],
   "source": [
    "X.shape,y.shape"
   ]
  },
  {
   "cell_type": "code",
   "execution_count": 12,
   "metadata": {},
   "outputs": [
    {
     "data": {
      "image/png": "[encoded data removed]",
      "text/plain": [
       "<Figure size 864x432 with 2 Axes>"
      ]
     },
     "metadata": {
      "needs_background": "light"
     },
     "output_type": "display_data"
    }
   ],
   "source": [
    "#co-relation plot\n",
    "plt.figure(figsize=(12,6))\n",
    "sns.heatmap(X.corr(),annot=True,cmap='BuPu')\n",
    "plt.show()"
   ]
  },
  {
   "cell_type": "code",
   "execution_count": 13,
   "metadata": {},
   "outputs": [
    {
     "data": {
      "image/png": "[encoded data removed]",
      "text/plain": [
       "<Figure size 864x576 with 1 Axes>"
      ]
     },
     "metadata": {
      "needs_background": "light"
     },
     "output_type": "display_data"
    }
   ],
   "source": [
    "plt.figure(figsize=(12,8))\n",
    "sns.boxplot(data=X)\n",
    "plt.show()"
   ]
  },
  {
   "cell_type": "code",
   "execution_count": 14,
   "metadata": {},
   "outputs": [],
   "source": [
    "from sklearn.model_selection import train_test_split\n",
    "X_train,X_test,y_train,y_test=train_test_split(X,y,test_size=0.2,random_state=0)"
   ]
  },
  {
   "cell_type": "code",
   "execution_count": 15,
   "metadata": {},
   "outputs": [],
   "source": [
    "#Feature Scaling\n",
    "from sklearn.preprocessing import StandardScaler\n",
    "sc=StandardScaler()\n",
    "X_train=sc.fit_transform(X_train)\n",
    "X_test=sc.transform(X_test)"
   ]
  },
  {
   "cell_type": "markdown",
   "metadata": {},
   "source": [
    "# Training the model (ANN)"
   ]
  },
  {
   "cell_type": "code",
   "execution_count": 16,
   "metadata": {},
   "outputs": [],
   "source": [
    "from keras.wrappers.scikit_learn import KerasClassifier\n",
    "from sklearn.model_selection import GridSearchCV\n",
    "from keras.models import Sequential\n",
    "from keras.layers import Dense, Activation, Dropout"
   ]
  },
  {
   "cell_type": "code",
   "execution_count": 17,
   "metadata": {},
   "outputs": [],
   "source": [
    "#initialising ANN\n",
    "model=Sequential()"
   ]
  },
  {
   "cell_type": "markdown",
   "metadata": {},
   "source": [
    "output_dim=units=number of nodes(eg=6)\n",
    "\n",
    "activation=name of activation fucn(eg=relu)\n",
    "\n",
    "init=kernel_initialiser=weight initialisation technique(eg=he_uniform, for relu)\n",
    "\n",
    "input_dim=number of input featues connect to hidden layer(number of featues of X_train)(eg=11)"
   ]
  },
  {
   "cell_type": "code",
   "execution_count": 18,
   "metadata": {},
   "outputs": [],
   "source": [
    "#Adding input layer and first hidden layer\n",
    "model.add(Dense(units=6,kernel_initializer='he_uniform',activation='relu',input_dim=11))\n",
    "\n",
    "#adding second hidden layer\n",
    "model.add(Dense(units=6,kernel_initializer='he_uniform',activation='relu'))\n",
    "\n",
    "#adding output layer\n",
    "model.add(Dense(units=1,kernel_initializer='glorot_uniform',activation='sigmoid'))\n",
    "\n",
    "#compiling the ANN\n",
    "model.compile(optimizer='adam',loss='binary_crossentropy',metrics=['accuracy'])"
   ]
  },
  {
   "cell_type": "code",
   "execution_count": 19,
   "metadata": {},
   "outputs": [
    {
     "name": "stdout",
     "output_type": "stream",
     "text": [
      "Model: \"sequential\"\n",
      "_________________________________________________________________\n",
      " Layer (type)                Output Shape              Param #   \n",
      "=================================================================\n",
      " dense (Dense)               (None, 6)                 72        \n",
      "                                                                 \n",
      " dense_1 (Dense)             (None, 6)                 42        \n",
      "                                                                 \n",
      " dense_2 (Dense)             (None, 1)                 7         \n",
      "                                                                 \n",
      "=================================================================\n",
      "Total params: 121\n",
      "Trainable params: 121\n",
      "Non-trainable params: 0\n",
      "_________________________________________________________________\n"
     ]
    }
   ],
   "source": [
    "model.summary()"
   ]
  },
  {
   "cell_type": "code",
   "execution_count": 20,
   "metadata": {},
   "outputs": [
    {
     "name": "stdout",
     "output_type": "stream",
     "text": [
      "Epoch 1/100\n",
      "168/168 [==============================] - 1s 4ms/step - loss: 0.5382 - accuracy: 0.7962 - val_loss: 0.5054 - val_accuracy: 0.7955\n",
      "Epoch 2/100\n",
      "168/168 [==============================] - 0s 3ms/step - loss: 0.4874 - accuracy: 0.7962 - val_loss: 0.4767 - val_accuracy: 0.7955\n",
      "Epoch 3/100\n",
      "168/168 [==============================] - 0s 3ms/step - loss: 0.4670 - accuracy: 0.7962 - val_loss: 0.4617 - val_accuracy: 0.7955\n",
      "Epoch 4/100\n",
      "168/168 [==============================] - 0s 3ms/step - loss: 0.4547 - accuracy: 0.7962 - val_loss: 0.4523 - val_accuracy: 0.7955\n",
      "Epoch 5/100\n",
      "168/168 [==============================] - 1s 3ms/step - loss: 0.4462 - accuracy: 0.7962 - val_loss: 0.4455 - val_accuracy: 0.7955\n",
      "Epoch 6/100\n",
      "168/168 [==============================] - 1s 3ms/step - loss: 0.4399 - accuracy: 0.7962 - val_loss: 0.4406 - val_accuracy: 0.7955\n",
      "Epoch 7/100\n",
      "168/168 [==============================] - 0s 3ms/step - loss: 0.4347 - accuracy: 0.7962 - val_loss: 0.4367 - val_accuracy: 0.7955\n",
      "Epoch 8/100\n",
      "168/168 [==============================] - 0s 3ms/step - loss: 0.4300 - accuracy: 0.7962 - val_loss: 0.4331 - val_accuracy: 0.7955\n",
      "Epoch 9/100\n",
      "168/168 [==============================] - 0s 3ms/step - loss: 0.4262 - accuracy: 0.7962 - val_loss: 0.4296 - val_accuracy: 0.7955\n",
      "Epoch 10/100\n",
      "168/168 [==============================] - 0s 3ms/step - loss: 0.4221 - accuracy: 0.7962 - val_loss: 0.4265 - val_accuracy: 0.7959\n",
      "Epoch 11/100\n",
      "168/168 [==============================] - 1s 3ms/step - loss: 0.4186 - accuracy: 0.7970 - val_loss: 0.4236 - val_accuracy: 0.7963\n",
      "Epoch 12/100\n",
      "168/168 [==============================] - 0s 3ms/step - loss: 0.4147 - accuracy: 0.7981 - val_loss: 0.4210 - val_accuracy: 0.7970\n",
      "Epoch 13/100\n",
      "168/168 [==============================] - 0s 3ms/step - loss: 0.4111 - accuracy: 0.8005 - val_loss: 0.4183 - val_accuracy: 0.8008\n",
      "Epoch 14/100\n",
      "168/168 [==============================] - 1s 3ms/step - loss: 0.4079 - accuracy: 0.8022 - val_loss: 0.4159 - val_accuracy: 0.8016\n",
      "Epoch 15/100\n",
      "168/168 [==============================] - 1s 3ms/step - loss: 0.4047 - accuracy: 0.8140 - val_loss: 0.4130 - val_accuracy: 0.8236\n",
      "Epoch 16/100\n",
      "168/168 [==============================] - 0s 3ms/step - loss: 0.4007 - accuracy: 0.8306 - val_loss: 0.4092 - val_accuracy: 0.8270\n",
      "Epoch 17/100\n",
      "168/168 [==============================] - 1s 3ms/step - loss: 0.3954 - accuracy: 0.8347 - val_loss: 0.4047 - val_accuracy: 0.8311\n",
      "Epoch 18/100\n",
      "168/168 [==============================] - 1s 4ms/step - loss: 0.3895 - accuracy: 0.8403 - val_loss: 0.4001 - val_accuracy: 0.8315\n",
      "Epoch 19/100\n",
      "168/168 [==============================] - 1s 3ms/step - loss: 0.3838 - accuracy: 0.8434 - val_loss: 0.3958 - val_accuracy: 0.8338\n",
      "Epoch 20/100\n",
      "168/168 [==============================] - 1s 3ms/step - loss: 0.3786 - accuracy: 0.8429 - val_loss: 0.3924 - val_accuracy: 0.8360\n",
      "Epoch 21/100\n",
      "168/168 [==============================] - 1s 3ms/step - loss: 0.3745 - accuracy: 0.8453 - val_loss: 0.3896 - val_accuracy: 0.8387\n",
      "Epoch 22/100\n",
      "168/168 [==============================] - 0s 3ms/step - loss: 0.3705 - accuracy: 0.8470 - val_loss: 0.3862 - val_accuracy: 0.8395\n",
      "Epoch 23/100\n",
      "168/168 [==============================] - 1s 3ms/step - loss: 0.3666 - accuracy: 0.8489 - val_loss: 0.3843 - val_accuracy: 0.8391\n",
      "Epoch 24/100\n",
      "168/168 [==============================] - 0s 3ms/step - loss: 0.3629 - accuracy: 0.8492 - val_loss: 0.3816 - val_accuracy: 0.8413\n",
      "Epoch 25/100\n",
      "168/168 [==============================] - 0s 3ms/step - loss: 0.3595 - accuracy: 0.8528 - val_loss: 0.3798 - val_accuracy: 0.8436\n",
      "Epoch 26/100\n",
      "168/168 [==============================] - 1s 3ms/step - loss: 0.3565 - accuracy: 0.8545 - val_loss: 0.3774 - val_accuracy: 0.8432\n",
      "Epoch 27/100\n",
      "168/168 [==============================] - 0s 3ms/step - loss: 0.3539 - accuracy: 0.8541 - val_loss: 0.3759 - val_accuracy: 0.8440\n",
      "Epoch 28/100\n",
      "168/168 [==============================] - 0s 3ms/step - loss: 0.3515 - accuracy: 0.8543 - val_loss: 0.3743 - val_accuracy: 0.8448\n",
      "Epoch 29/100\n",
      "168/168 [==============================] - 0s 3ms/step - loss: 0.3493 - accuracy: 0.8533 - val_loss: 0.3741 - val_accuracy: 0.8459\n",
      "Epoch 30/100\n",
      "168/168 [==============================] - 0s 3ms/step - loss: 0.3483 - accuracy: 0.8552 - val_loss: 0.3727 - val_accuracy: 0.8444\n",
      "Epoch 31/100\n",
      "168/168 [==============================] - 0s 3ms/step - loss: 0.3464 - accuracy: 0.8559 - val_loss: 0.3726 - val_accuracy: 0.8470\n",
      "Epoch 32/100\n",
      "168/168 [==============================] - 1s 3ms/step - loss: 0.3452 - accuracy: 0.8584 - val_loss: 0.3730 - val_accuracy: 0.8448\n",
      "Epoch 33/100\n",
      "168/168 [==============================] - 0s 3ms/step - loss: 0.3443 - accuracy: 0.8576 - val_loss: 0.3717 - val_accuracy: 0.8455\n",
      "Epoch 34/100\n",
      "168/168 [==============================] - 0s 3ms/step - loss: 0.3433 - accuracy: 0.8584 - val_loss: 0.3714 - val_accuracy: 0.8436\n",
      "Epoch 35/100\n",
      "168/168 [==============================] - 0s 3ms/step - loss: 0.3429 - accuracy: 0.8604 - val_loss: 0.3701 - val_accuracy: 0.8440\n",
      "Epoch 36/100\n",
      "168/168 [==============================] - 0s 3ms/step - loss: 0.3420 - accuracy: 0.8571 - val_loss: 0.3696 - val_accuracy: 0.8436\n",
      "Epoch 37/100\n",
      "168/168 [==============================] - 0s 3ms/step - loss: 0.3416 - accuracy: 0.8599 - val_loss: 0.3691 - val_accuracy: 0.8444\n",
      "Epoch 38/100\n",
      "168/168 [==============================] - 1s 3ms/step - loss: 0.3406 - accuracy: 0.8589 - val_loss: 0.3692 - val_accuracy: 0.8448\n",
      "Epoch 39/100\n",
      "168/168 [==============================] - 0s 3ms/step - loss: 0.3405 - accuracy: 0.8586 - val_loss: 0.3678 - val_accuracy: 0.8444\n",
      "Epoch 40/100\n",
      "168/168 [==============================] - 0s 3ms/step - loss: 0.3400 - accuracy: 0.8599 - val_loss: 0.3669 - val_accuracy: 0.8466\n",
      "Epoch 41/100\n",
      "168/168 [==============================] - 0s 3ms/step - loss: 0.3396 - accuracy: 0.8595 - val_loss: 0.3674 - val_accuracy: 0.8466\n",
      "Epoch 42/100\n",
      "168/168 [==============================] - 0s 3ms/step - loss: 0.3395 - accuracy: 0.8591 - val_loss: 0.3671 - val_accuracy: 0.8455\n",
      "Epoch 43/100\n",
      "168/168 [==============================] - 0s 3ms/step - loss: 0.3390 - accuracy: 0.8604 - val_loss: 0.3675 - val_accuracy: 0.8463\n",
      "Epoch 44/100\n",
      "168/168 [==============================] - 0s 3ms/step - loss: 0.3384 - accuracy: 0.8608 - val_loss: 0.3664 - val_accuracy: 0.8470\n",
      "Epoch 45/100\n",
      "168/168 [==============================] - 0s 3ms/step - loss: 0.3382 - accuracy: 0.8612 - val_loss: 0.3665 - val_accuracy: 0.8482\n",
      "Epoch 46/100\n",
      "168/168 [==============================] - 0s 3ms/step - loss: 0.3381 - accuracy: 0.8604 - val_loss: 0.3661 - val_accuracy: 0.8470\n",
      "Epoch 47/100\n",
      "168/168 [==============================] - 0s 3ms/step - loss: 0.3375 - accuracy: 0.8632 - val_loss: 0.3653 - val_accuracy: 0.8485\n",
      "Epoch 48/100\n",
      "168/168 [==============================] - 1s 3ms/step - loss: 0.3373 - accuracy: 0.8619 - val_loss: 0.3652 - val_accuracy: 0.8466\n",
      "Epoch 49/100\n",
      "168/168 [==============================] - 1s 4ms/step - loss: 0.3367 - accuracy: 0.8608 - val_loss: 0.3647 - val_accuracy: 0.8485\n",
      "Epoch 50/100\n",
      "168/168 [==============================] - 1s 4ms/step - loss: 0.3368 - accuracy: 0.8604 - val_loss: 0.3645 - val_accuracy: 0.8474\n",
      "Epoch 51/100\n",
      "168/168 [==============================] - 1s 3ms/step - loss: 0.3361 - accuracy: 0.8612 - val_loss: 0.3638 - val_accuracy: 0.8482\n",
      "Epoch 52/100\n",
      "168/168 [==============================] - 1s 3ms/step - loss: 0.3361 - accuracy: 0.8627 - val_loss: 0.3644 - val_accuracy: 0.8485\n",
      "Epoch 53/100\n",
      "168/168 [==============================] - 0s 3ms/step - loss: 0.3354 - accuracy: 0.8643 - val_loss: 0.3647 - val_accuracy: 0.8485\n",
      "Epoch 54/100\n",
      "168/168 [==============================] - 0s 3ms/step - loss: 0.3355 - accuracy: 0.8630 - val_loss: 0.3634 - val_accuracy: 0.8463\n",
      "Epoch 55/100\n",
      "168/168 [==============================] - 0s 3ms/step - loss: 0.3355 - accuracy: 0.8627 - val_loss: 0.3639 - val_accuracy: 0.8493\n",
      "Epoch 56/100\n",
      "168/168 [==============================] - 0s 3ms/step - loss: 0.3351 - accuracy: 0.8632 - val_loss: 0.3637 - val_accuracy: 0.8478\n",
      "Epoch 57/100\n",
      "168/168 [==============================] - 1s 3ms/step - loss: 0.3350 - accuracy: 0.8604 - val_loss: 0.3635 - val_accuracy: 0.8485\n"
     ]
    },
    {
     "name": "stdout",
     "output_type": "stream",
     "text": [
      "Epoch 58/100\n",
      "168/168 [==============================] - 0s 3ms/step - loss: 0.3347 - accuracy: 0.8627 - val_loss: 0.3629 - val_accuracy: 0.8474\n",
      "Epoch 59/100\n",
      "168/168 [==============================] - 0s 3ms/step - loss: 0.3345 - accuracy: 0.8630 - val_loss: 0.3628 - val_accuracy: 0.8470\n",
      "Epoch 60/100\n",
      "168/168 [==============================] - 0s 3ms/step - loss: 0.3343 - accuracy: 0.8630 - val_loss: 0.3640 - val_accuracy: 0.8482\n",
      "Epoch 61/100\n",
      "168/168 [==============================] - 0s 3ms/step - loss: 0.3343 - accuracy: 0.8625 - val_loss: 0.3637 - val_accuracy: 0.8493\n",
      "Epoch 62/100\n",
      "168/168 [==============================] - 0s 3ms/step - loss: 0.3339 - accuracy: 0.8608 - val_loss: 0.3626 - val_accuracy: 0.8478\n",
      "Epoch 63/100\n",
      "168/168 [==============================] - 0s 3ms/step - loss: 0.3338 - accuracy: 0.8628 - val_loss: 0.3630 - val_accuracy: 0.8482\n",
      "Epoch 64/100\n",
      "168/168 [==============================] - 0s 3ms/step - loss: 0.3335 - accuracy: 0.8627 - val_loss: 0.3627 - val_accuracy: 0.8504\n",
      "Epoch 65/100\n",
      "168/168 [==============================] - 0s 3ms/step - loss: 0.3337 - accuracy: 0.8621 - val_loss: 0.3626 - val_accuracy: 0.8478\n",
      "Epoch 66/100\n",
      "168/168 [==============================] - 0s 3ms/step - loss: 0.3334 - accuracy: 0.8617 - val_loss: 0.3624 - val_accuracy: 0.8493\n",
      "Epoch 67/100\n",
      "168/168 [==============================] - 0s 3ms/step - loss: 0.3331 - accuracy: 0.8630 - val_loss: 0.3622 - val_accuracy: 0.8493\n",
      "Epoch 68/100\n",
      "168/168 [==============================] - 0s 3ms/step - loss: 0.3330 - accuracy: 0.8634 - val_loss: 0.3614 - val_accuracy: 0.8474\n",
      "Epoch 69/100\n",
      "168/168 [==============================] - 1s 3ms/step - loss: 0.3329 - accuracy: 0.8643 - val_loss: 0.3625 - val_accuracy: 0.8463\n",
      "Epoch 70/100\n",
      "168/168 [==============================] - 1s 3ms/step - loss: 0.3335 - accuracy: 0.8623 - val_loss: 0.3623 - val_accuracy: 0.8489\n",
      "Epoch 71/100\n",
      "168/168 [==============================] - 1s 3ms/step - loss: 0.3330 - accuracy: 0.8623 - val_loss: 0.3615 - val_accuracy: 0.8485\n",
      "Epoch 72/100\n",
      "168/168 [==============================] - 1s 3ms/step - loss: 0.3325 - accuracy: 0.8628 - val_loss: 0.3621 - val_accuracy: 0.8482\n",
      "Epoch 73/100\n",
      "168/168 [==============================] - 1s 3ms/step - loss: 0.3322 - accuracy: 0.8630 - val_loss: 0.3627 - val_accuracy: 0.8482\n",
      "Epoch 74/100\n",
      "168/168 [==============================] - 2s 9ms/step - loss: 0.3323 - accuracy: 0.8634 - val_loss: 0.3620 - val_accuracy: 0.8523\n",
      "Epoch 75/100\n",
      "168/168 [==============================] - 1s 5ms/step - loss: 0.3323 - accuracy: 0.8621 - val_loss: 0.3621 - val_accuracy: 0.8493\n",
      "Epoch 76/100\n",
      "168/168 [==============================] - 1s 4ms/step - loss: 0.3321 - accuracy: 0.8628 - val_loss: 0.3619 - val_accuracy: 0.8497\n",
      "Epoch 77/100\n",
      "168/168 [==============================] - 1s 4ms/step - loss: 0.3319 - accuracy: 0.8619 - val_loss: 0.3626 - val_accuracy: 0.8485\n",
      "Epoch 78/100\n",
      "168/168 [==============================] - 1s 3ms/step - loss: 0.3318 - accuracy: 0.8643 - val_loss: 0.3620 - val_accuracy: 0.8512\n",
      "Epoch 79/100\n",
      "168/168 [==============================] - 1s 3ms/step - loss: 0.3318 - accuracy: 0.8625 - val_loss: 0.3613 - val_accuracy: 0.8504\n",
      "Epoch 80/100\n",
      "168/168 [==============================] - 1s 3ms/step - loss: 0.3316 - accuracy: 0.8621 - val_loss: 0.3612 - val_accuracy: 0.8508\n",
      "Epoch 81/100\n",
      "168/168 [==============================] - 1s 3ms/step - loss: 0.3313 - accuracy: 0.8628 - val_loss: 0.3618 - val_accuracy: 0.8493\n",
      "Epoch 82/100\n",
      "168/168 [==============================] - 0s 3ms/step - loss: 0.3313 - accuracy: 0.8617 - val_loss: 0.3613 - val_accuracy: 0.8516\n",
      "Epoch 83/100\n",
      "168/168 [==============================] - 1s 3ms/step - loss: 0.3313 - accuracy: 0.8640 - val_loss: 0.3612 - val_accuracy: 0.8508\n",
      "Epoch 84/100\n",
      "168/168 [==============================] - 1s 3ms/step - loss: 0.3312 - accuracy: 0.8615 - val_loss: 0.3614 - val_accuracy: 0.8516\n",
      "Epoch 85/100\n",
      "168/168 [==============================] - 0s 3ms/step - loss: 0.3312 - accuracy: 0.8645 - val_loss: 0.3610 - val_accuracy: 0.8519\n",
      "Epoch 86/100\n",
      "168/168 [==============================] - 1s 3ms/step - loss: 0.3310 - accuracy: 0.8632 - val_loss: 0.3608 - val_accuracy: 0.8512\n",
      "Epoch 87/100\n",
      "168/168 [==============================] - 0s 3ms/step - loss: 0.3311 - accuracy: 0.8630 - val_loss: 0.3611 - val_accuracy: 0.8523\n",
      "Epoch 88/100\n",
      "168/168 [==============================] - 0s 3ms/step - loss: 0.3309 - accuracy: 0.8625 - val_loss: 0.3614 - val_accuracy: 0.8516\n",
      "Epoch 89/100\n",
      "168/168 [==============================] - 0s 3ms/step - loss: 0.3309 - accuracy: 0.8630 - val_loss: 0.3615 - val_accuracy: 0.8504\n",
      "Epoch 90/100\n",
      "168/168 [==============================] - 1s 3ms/step - loss: 0.3309 - accuracy: 0.8645 - val_loss: 0.3616 - val_accuracy: 0.8519\n",
      "Epoch 91/100\n",
      "168/168 [==============================] - 1s 3ms/step - loss: 0.3306 - accuracy: 0.8614 - val_loss: 0.3614 - val_accuracy: 0.8527\n",
      "Epoch 92/100\n",
      "168/168 [==============================] - 0s 3ms/step - loss: 0.3306 - accuracy: 0.8643 - val_loss: 0.3618 - val_accuracy: 0.8516\n",
      "Epoch 93/100\n",
      "168/168 [==============================] - 1s 3ms/step - loss: 0.3306 - accuracy: 0.8632 - val_loss: 0.3606 - val_accuracy: 0.8516\n",
      "Epoch 94/100\n",
      "168/168 [==============================] - 0s 3ms/step - loss: 0.3306 - accuracy: 0.8625 - val_loss: 0.3607 - val_accuracy: 0.8512\n",
      "Epoch 95/100\n",
      "168/168 [==============================] - 0s 3ms/step - loss: 0.3304 - accuracy: 0.8621 - val_loss: 0.3611 - val_accuracy: 0.8523\n",
      "Epoch 96/100\n",
      "168/168 [==============================] - 0s 3ms/step - loss: 0.3303 - accuracy: 0.8636 - val_loss: 0.3613 - val_accuracy: 0.8508\n",
      "Epoch 97/100\n",
      "168/168 [==============================] - 0s 3ms/step - loss: 0.3302 - accuracy: 0.8628 - val_loss: 0.3603 - val_accuracy: 0.8516\n",
      "Epoch 98/100\n",
      "168/168 [==============================] - 1s 3ms/step - loss: 0.3304 - accuracy: 0.8634 - val_loss: 0.3605 - val_accuracy: 0.8523\n",
      "Epoch 99/100\n",
      "168/168 [==============================] - 1s 3ms/step - loss: 0.3300 - accuracy: 0.8630 - val_loss: 0.3607 - val_accuracy: 0.8504\n",
      "Epoch 100/100\n",
      "168/168 [==============================] - 0s 3ms/step - loss: 0.3300 - accuracy: 0.8630 - val_loss: 0.3606 - val_accuracy: 0.8516\n"
     ]
    }
   ],
   "source": [
    "model_history=model.fit(X_train,y_train,validation_split=0.33,batch_size=32,epochs=100)"
   ]
  },
  {
   "cell_type": "markdown",
   "metadata": {},
   "source": [
    "# Visualization  of Model"
   ]
  },
  {
   "cell_type": "code",
   "execution_count": 24,
   "metadata": {},
   "outputs": [
    {
     "data": {
      "image/png": "[encoded data removed]",
      "text/plain": [
       "<Figure size 432x288 with 1 Axes>"
      ]
     },
     "metadata": {
      "needs_background": "light"
     },
     "output_type": "display_data"
    },
    {
     "data": {
      "image/png": "[encoded data removed]",
      "text/plain": [
       "<Figure size 432x288 with 1 Axes>"
      ]
     },
     "metadata": {
      "needs_background": "light"
     },
     "output_type": "display_data"
    }
   ],
   "source": [
    "acc = model_history.history['accuracy']\n",
    "val_acc = model_history.history['val_accuracy']\n",
    "epochs = range(len(acc))\n",
    "\n",
    "plt.plot(epochs, acc, 'b', label='Training Accuracy')\n",
    "plt.plot(epochs, val_acc, 'r', label='Validation Accuracy')\n",
    "plt.title('Accuracy Graph')\n",
    "plt.legend()\n",
    "plt.figure()\n",
    "\n",
    "loss = model_history.history['loss']\n",
    "val_loss = model_history.history['val_loss']\n",
    "plt.plot(epochs, loss, 'b', label='Training Loss')\n",
    "plt.plot(epochs, val_loss, 'r', label='Validation Loss')\n",
    "plt.title('Loss Graph')\n",
    "plt.legend()\n",
    "plt.show()"
   ]
  },
  {
   "cell_type": "markdown",
   "metadata": {},
   "source": [
    "# Testing the model"
   ]
  },
  {
   "cell_type": "code",
   "execution_count": 25,
   "metadata": {},
   "outputs": [],
   "source": [
    "y_pred=model.predict(X_test)\n",
    "y_pred=(y_pred>0.5)"
   ]
  },
  {
   "cell_type": "code",
   "execution_count": 28,
   "metadata": {},
   "outputs": [
    {
     "data": {
      "text/plain": [
       "array([[1521,   74],\n",
       "       [ 206,  199]], dtype=int64)"
      ]
     },
     "execution_count": 28,
     "metadata": {},
     "output_type": "execute_result"
    }
   ],
   "source": [
    "from sklearn.metrics import confusion_matrix\n",
    "confusion_matrix(y_test, y_pred)"
   ]
  },
  {
   "cell_type": "code",
   "execution_count": 27,
   "metadata": {},
   "outputs": [
    {
     "name": "stdout",
     "output_type": "stream",
     "text": [
      "0.86\n"
     ]
    }
   ],
   "source": [
    "#calculate the accuracy\n",
    "from sklearn.metrics import accuracy_score\n",
    "score=accuracy_score(y_pred,y_test)\n",
    "print(score)"
   ]
  },
  {
   "cell_type": "code",
   "execution_count": null,
   "metadata": {},
   "outputs": [],
   "source": []
  }
 ],
 "metadata": {
  "kernelspec": {
   "display_name": "Python 3",
   "language": "python",
   "name": "python3"
  },
  "language_info": {
   "codemirror_mode": {
    "name": "ipython",
    "version": 3
   },
   "file_extension": ".py",
   "mimetype": "text/x-python",
   "name": "python",
   "nbconvert_exporter": "python",
   "pygments_lexer": "ipython3",
   "version": "3.8.3"
  }
 },
 "nbformat": 4,
 "nbformat_minor": 4
}
