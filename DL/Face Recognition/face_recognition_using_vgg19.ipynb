{
 "cells": [
  {
   "cell_type": "code",
   "execution_count": 2,
   "metadata": {
    "colab": {
     "base_uri": "https://localhost:8080/"
    },
    "id": "ElbBJtRS-6gw",
    "outputId": "7fe06705-640c-4eda-a4a6-59fa3c2b61e2"
   },
   "outputs": [
    {
     "name": "stdout",
     "output_type": "stream",
     "text": [
      "GPU 0: Tesla T4 (UUID: GPU-f5781c73-5afb-218c-25a9-662155f2680b)\n"
     ]
    }
   ],
   "source": [
    "!nvidia-smi -L"
   ]
  },
  {
   "cell_type": "code",
   "execution_count": 4,
   "metadata": {
    "id": "IQUVWhkx7JTI"
   },
   "outputs": [],
   "source": [
    "#importing modules\n",
    "import numpy as np\n",
    "import pandas as pd\n",
    "import matplotlib.pyplot as plt\n",
    "import os\n",
    "from glob import glob"
   ]
  },
  {
   "cell_type": "code",
   "execution_count": 5,
   "metadata": {
    "id": "Z_Ik0j3P_d8g"
   },
   "outputs": [],
   "source": [
    "#defining train and test directories\n",
    "train=r'/content/Dataset/train'\n",
    "test=r'/content/Dataset/test'\n",
    "classes=glob('/content/Dataset/train/*')"
   ]
  },
  {
   "cell_type": "code",
   "execution_count": 6,
   "metadata": {
    "colab": {
     "base_uri": "https://localhost:8080/"
    },
    "id": "1l039wI7_pyi",
    "outputId": "775f98d7-d7a1-47ff-88ec-cf7bfadbdb60"
   },
   "outputs": [
    {
     "name": "stdout",
     "output_type": "stream",
     "text": [
      "Found 145 images belonging to 2 classes.\n",
      "Found 69 images belonging to 2 classes.\n"
     ]
    }
   ],
   "source": [
    "#generating train and test images\n",
    "from keras.preprocessing.image import ImageDataGenerator\n",
    "train_datagen=ImageDataGenerator(rescale =1./255,\n",
    "                                 shear_range=0.2,\n",
    "                                 zoom_range=0.2,\n",
    "                                 horizontal_flip=True,\n",
    "                                 rotation_range=0.2)\n",
    "                                 \n",
    "test_datagen=ImageDataGenerator(rescale=1./255)\n",
    "\n",
    "training_set=train_datagen.flow_from_directory(train,\n",
    "                                               target_size=(224,224),\n",
    "                                               batch_size=32,\n",
    "                                               class_mode='categorical')\n",
    "\n",
    "test_set=test_datagen.flow_from_directory(test,\n",
    "                                          target_size=(224,224),\n",
    "                                          batch_size=32,\n",
    "                                          class_mode='categorical')"
   ]
  },
  {
   "cell_type": "code",
   "execution_count": 7,
   "metadata": {
    "id": "M9E8HV72BxK-"
   },
   "outputs": [],
   "source": [
    "from keras.layers import Input, Dense, Flatten, Lambda\n",
    "from keras.models import Model\n",
    "from keras.models import Sequential\n",
    "from keras.applications.vgg19 import VGG19\n",
    "from keras.applications.vgg19 import preprocess_input\n",
    "from keras.preprocessing import image"
   ]
  },
  {
   "cell_type": "code",
   "execution_count": 8,
   "metadata": {
    "colab": {
     "base_uri": "https://localhost:8080/"
    },
    "id": "kwoQGV-WJPCP",
    "outputId": "19fc7277-b597-4a0f-c1cb-7d923599b1a7"
   },
   "outputs": [
    {
     "name": "stdout",
     "output_type": "stream",
     "text": [
      "Downloading data from https://storage.googleapis.com/tensorflow/keras-applications/vgg19/vgg19_weights_tf_dim_ordering_tf_kernels_notop.h5\n",
      "80142336/80134624 [==============================] - 2s 0us/step\n",
      "80150528/80134624 [==============================] - 2s 0us/step\n"
     ]
    }
   ],
   "source": [
    "#loading the pretrained model\n",
    "vgg19=VGG19(input_shape=(224,224,3),weights='imagenet',include_top=False)\n",
    "\n",
    "for layer in vgg19.layers:\n",
    "  layer.trainable=False\n",
    "\n",
    "inputs=vgg19.input\n",
    "\n",
    "x=Flatten()(vgg19.output)\n",
    "x=Dense(1000,activation='relu')(x)\n",
    "x=Dense(500,activation='relu')(x)\n",
    "\n",
    "outputs=Dense(len(classes),activation='softmax')(x)\n",
    "\n",
    "model=Model(inputs=inputs,outputs=outputs)"
   ]
  },
  {
   "cell_type": "code",
   "execution_count": 9,
   "metadata": {
    "colab": {
     "base_uri": "https://localhost:8080/"
    },
    "id": "Jnl2ZJuRMRKa",
    "outputId": "f24cb248-16ac-4922-81b9-4422d5f5d668"
   },
   "outputs": [
    {
     "name": "stdout",
     "output_type": "stream",
     "text": [
      "Epoch 1/30\n",
      "5/5 [==============================] - 18s 1s/step - loss: 4.5024 - accuracy: 0.6414 - val_loss: 4.3557 - val_accuracy: 0.6377\n",
      "Epoch 2/30\n",
      "5/5 [==============================] - 3s 605ms/step - loss: 0.5845 - accuracy: 0.8897 - val_loss: 2.0732e-08 - val_accuracy: 1.0000\n",
      "Epoch 3/30\n",
      "5/5 [==============================] - 3s 673ms/step - loss: 4.9328e-09 - accuracy: 1.0000 - val_loss: 0.1337 - val_accuracy: 0.9130\n",
      "Epoch 4/30\n",
      "5/5 [==============================] - 3s 614ms/step - loss: 0.0155 - accuracy: 0.9931 - val_loss: 0.1077 - val_accuracy: 0.9420\n",
      "Epoch 5/30\n",
      "5/5 [==============================] - 3s 606ms/step - loss: 1.5949e-07 - accuracy: 1.0000 - val_loss: 1.3648e-06 - val_accuracy: 1.0000\n",
      "Epoch 6/30\n",
      "5/5 [==============================] - 4s 864ms/step - loss: 0.0000e+00 - accuracy: 1.0000 - val_loss: 0.0000e+00 - val_accuracy: 1.0000\n",
      "Epoch 7/30\n",
      "5/5 [==============================] - 3s 610ms/step - loss: 0.0000e+00 - accuracy: 1.0000 - val_loss: 0.0000e+00 - val_accuracy: 1.0000\n",
      "Epoch 8/30\n",
      "5/5 [==============================] - 3s 673ms/step - loss: 0.0000e+00 - accuracy: 1.0000 - val_loss: 0.0000e+00 - val_accuracy: 1.0000\n",
      "Epoch 9/30\n",
      "5/5 [==============================] - 3s 666ms/step - loss: 0.0000e+00 - accuracy: 1.0000 - val_loss: 0.0000e+00 - val_accuracy: 1.0000\n",
      "Epoch 10/30\n",
      "5/5 [==============================] - 3s 600ms/step - loss: 0.0000e+00 - accuracy: 1.0000 - val_loss: 0.0000e+00 - val_accuracy: 1.0000\n",
      "Epoch 11/30\n",
      "5/5 [==============================] - 3s 602ms/step - loss: 0.0000e+00 - accuracy: 1.0000 - val_loss: 0.0000e+00 - val_accuracy: 1.0000\n",
      "Epoch 12/30\n",
      "5/5 [==============================] - 3s 683ms/step - loss: 0.0000e+00 - accuracy: 1.0000 - val_loss: 0.0000e+00 - val_accuracy: 1.0000\n",
      "Epoch 13/30\n",
      "5/5 [==============================] - 3s 600ms/step - loss: 0.0000e+00 - accuracy: 1.0000 - val_loss: 0.0000e+00 - val_accuracy: 1.0000\n",
      "Epoch 14/30\n",
      "5/5 [==============================] - 3s 620ms/step - loss: 0.0000e+00 - accuracy: 1.0000 - val_loss: 0.0000e+00 - val_accuracy: 1.0000\n",
      "Epoch 15/30\n",
      "5/5 [==============================] - 3s 583ms/step - loss: 0.0000e+00 - accuracy: 1.0000 - val_loss: 0.0000e+00 - val_accuracy: 1.0000\n",
      "Epoch 16/30\n",
      "5/5 [==============================] - 3s 673ms/step - loss: 0.0000e+00 - accuracy: 1.0000 - val_loss: 0.0000e+00 - val_accuracy: 1.0000\n",
      "Epoch 17/30\n",
      "5/5 [==============================] - 3s 601ms/step - loss: 0.0000e+00 - accuracy: 1.0000 - val_loss: 0.0000e+00 - val_accuracy: 1.0000\n",
      "Epoch 18/30\n",
      "5/5 [==============================] - 3s 603ms/step - loss: 0.0000e+00 - accuracy: 1.0000 - val_loss: 0.0000e+00 - val_accuracy: 1.0000\n",
      "Epoch 19/30\n",
      "5/5 [==============================] - 3s 622ms/step - loss: 0.0000e+00 - accuracy: 1.0000 - val_loss: 0.0000e+00 - val_accuracy: 1.0000\n",
      "Epoch 20/30\n",
      "5/5 [==============================] - 3s 674ms/step - loss: 0.0000e+00 - accuracy: 1.0000 - val_loss: 0.0000e+00 - val_accuracy: 1.0000\n",
      "Epoch 21/30\n",
      "5/5 [==============================] - 3s 613ms/step - loss: 0.0000e+00 - accuracy: 1.0000 - val_loss: 0.0000e+00 - val_accuracy: 1.0000\n",
      "Epoch 22/30\n",
      "5/5 [==============================] - 3s 604ms/step - loss: 0.0000e+00 - accuracy: 1.0000 - val_loss: 0.0000e+00 - val_accuracy: 1.0000\n",
      "Epoch 23/30\n",
      "5/5 [==============================] - 3s 598ms/step - loss: 0.0000e+00 - accuracy: 1.0000 - val_loss: 0.0000e+00 - val_accuracy: 1.0000\n",
      "Epoch 24/30\n",
      "5/5 [==============================] - 3s 627ms/step - loss: 0.0000e+00 - accuracy: 1.0000 - val_loss: 0.0000e+00 - val_accuracy: 1.0000\n",
      "Epoch 25/30\n",
      "5/5 [==============================] - 3s 614ms/step - loss: 0.0000e+00 - accuracy: 1.0000 - val_loss: 0.0000e+00 - val_accuracy: 1.0000\n",
      "Epoch 26/30\n",
      "5/5 [==============================] - 3s 606ms/step - loss: 0.0000e+00 - accuracy: 1.0000 - val_loss: 0.0000e+00 - val_accuracy: 1.0000\n",
      "Epoch 27/30\n",
      "5/5 [==============================] - 3s 608ms/step - loss: 0.0000e+00 - accuracy: 1.0000 - val_loss: 0.0000e+00 - val_accuracy: 1.0000\n",
      "Epoch 28/30\n",
      "5/5 [==============================] - 3s 610ms/step - loss: 0.0000e+00 - accuracy: 1.0000 - val_loss: 0.0000e+00 - val_accuracy: 1.0000\n",
      "Epoch 29/30\n",
      "5/5 [==============================] - 3s 607ms/step - loss: 0.0000e+00 - accuracy: 1.0000 - val_loss: 0.0000e+00 - val_accuracy: 1.0000\n",
      "Epoch 30/30\n",
      "5/5 [==============================] - 3s 592ms/step - loss: 0.0000e+00 - accuracy: 1.0000 - val_loss: 0.0000e+00 - val_accuracy: 1.0000\n"
     ]
    }
   ],
   "source": [
    "#compiling and training the model\n",
    "model.compile(loss='categorical_crossentropy',\n",
    "              optimizer='adam',\n",
    "              metrics=['accuracy'])\n",
    "\n",
    "hist=model.fit(training_set,\n",
    "               validation_data=test_set,\n",
    "               epochs=30,\n",
    "               verbose=1,\n",
    "               steps_per_epoch=len(training_set),\n",
    "               validation_steps=len(test_set)).history"
   ]
  },
  {
   "cell_type": "code",
   "execution_count": 10,
   "metadata": {
    "colab": {
     "base_uri": "https://localhost:8080/"
    },
    "id": "acmAtemCMRHm",
    "outputId": "69af7bea-2270-4f80-a21d-1b1d7b41cf99"
   },
   "outputs": [
    {
     "name": "stdout",
     "output_type": "stream",
     "text": [
      "The best max value obtained for accuracy is : 1.0\n",
      "The best max value obtained for val_accuracy is : 1.0\n",
      "The best min value obtained for loss is : 0.0\n",
      "The best min value obtained for val_loss is : 0.0\n"
     ]
    }
   ],
   "source": [
    "#checking max and min values\n",
    "training_features1= ['accuracy', 'val_accuracy']\n",
    "training_features2= ['loss', 'val_loss']\n",
    "for feature in training_features1:   \n",
    "    print(\"The best max value obtained for {} is :\".format(feature),max(hist[feature]))\n",
    "\n",
    "for feature in training_features2:   \n",
    "    print(\"The best min value obtained for {} is :\".format(feature),min(hist[feature]))"
   ]
  },
  {
   "cell_type": "code",
   "execution_count": 11,
   "metadata": {
    "colab": {
     "base_uri": "https://localhost:8080/",
     "height": 545
    },
    "id": "ol9frX7LMREv",
    "outputId": "e05ea706-f812-4335-abab-0690f9390409"
   },
   "outputs": [
    {
     "data": {
      "image/png": "[encoded data removed]",
      "text/plain": [
       "<Figure size 432x288 with 1 Axes>"
      ]
     },
     "metadata": {
      "needs_background": "light"
     },
     "output_type": "display_data"
    },
    {
     "data": {
      "image/png": "[encoded data removed]",
      "text/plain": [
       "<Figure size 432x288 with 1 Axes>"
      ]
     },
     "metadata": {
      "needs_background": "light"
     },
     "output_type": "display_data"
    }
   ],
   "source": [
    "#plotting loss vs val_loss and acc vs val_acc\n",
    "acc = hist['accuracy']\n",
    "val_acc = hist['val_accuracy']\n",
    "epochs = range(len(acc))\n",
    "\n",
    "plt.plot(epochs, acc, 'b', label='Training Accuracy')\n",
    "plt.plot(epochs, val_acc, 'r', label='Validation Accuracy')\n",
    "plt.title('Accuracy Graph')\n",
    "plt.legend()\n",
    "plt.figure()\n",
    "\n",
    "loss = hist['loss']\n",
    "val_loss = hist['val_loss']\n",
    "plt.plot(epochs, loss, 'b', label='Training Loss')\n",
    "plt.plot(epochs, val_loss, 'r', label='Validation Loss')\n",
    "plt.title('Loss Graph')\n",
    "plt.legend()\n",
    "plt.show()"
   ]
  },
  {
   "cell_type": "code",
   "execution_count": 12,
   "metadata": {
    "id": "kr1SI2cgMRBv"
   },
   "outputs": [],
   "source": [
    "#saving model and weights\n",
    "model.save('face_recognition_model.h5')\n",
    "model.save_weights('weights.h5')"
   ]
  },
  {
   "cell_type": "code",
   "execution_count": null,
   "metadata": {
    "id": "briY5BV1MQ3x"
   },
   "outputs": [],
   "source": []
  }
 ],
 "metadata": {
  "accelerator": "GPU",
  "colab": {
   "collapsed_sections": [],
   "name": "face recognition using vgg19.ipynb",
   "provenance": []
  },
  "gpuClass": "standard",
  "kernelspec": {
   "display_name": "Python 3",
   "language": "python",
   "name": "python3"
  },
  "language_info": {
   "codemirror_mode": {
    "name": "ipython",
    "version": 3
   },
   "file_extension": ".py",
   "mimetype": "text/x-python",
   "name": "python",
   "nbconvert_exporter": "python",
   "pygments_lexer": "ipython3",
   "version": "3.8.3"
  }
 },
 "nbformat": 4,
 "nbformat_minor": 1
}
